{
  "nbformat": 4,
  "nbformat_minor": 0,
  "metadata": {
    "colab": {
      "name": "39-xx-2020_wCEnorm.ipynb",
      "provenance": [],
      "collapsed_sections": []
    },
    "kernelspec": {
      "name": "python3",
      "display_name": "Python 3"
    },
    "accelerator": "GPU"
  },
  "cells": [
    {
      "cell_type": "code",
      "metadata": {
        "colab": {
          "base_uri": "https://localhost:8080/"
        },
        "id": "8JpjptMFWm7j",
        "outputId": "2b5b03f4-ebb4-4430-e2a8-dd717892d02a"
      },
      "source": [
        "!pip install comet-ml"
      ],
      "execution_count": null,
      "outputs": [
        {
          "output_type": "stream",
          "text": [
            "Collecting comet-ml\n",
            "\u001b[?25l  Downloading https://files.pythonhosted.org/packages/ff/97/511e5c98f555d9fc858e0ef3180cd78b5507295e3cd84e0dd68b6bc279f6/comet_ml-3.2.9-py2.py3-none-any.whl (241kB)\n",
            "\r\u001b[K     |█▍                              | 10kB 19.9MB/s eta 0:00:01\r\u001b[K     |██▊                             | 20kB 26.6MB/s eta 0:00:01\r\u001b[K     |████                            | 30kB 15.5MB/s eta 0:00:01\r\u001b[K     |█████▍                          | 40kB 10.7MB/s eta 0:00:01\r\u001b[K     |██████▉                         | 51kB 8.5MB/s eta 0:00:01\r\u001b[K     |████████▏                       | 61kB 8.8MB/s eta 0:00:01\r\u001b[K     |█████████▌                      | 71kB 8.9MB/s eta 0:00:01\r\u001b[K     |██████████▉                     | 81kB 9.0MB/s eta 0:00:01\r\u001b[K     |████████████▎                   | 92kB 8.8MB/s eta 0:00:01\r\u001b[K     |█████████████▋                  | 102kB 9.3MB/s eta 0:00:01\r\u001b[K     |███████████████                 | 112kB 9.3MB/s eta 0:00:01\r\u001b[K     |████████████████▎               | 122kB 9.3MB/s eta 0:00:01\r\u001b[K     |█████████████████▋              | 133kB 9.3MB/s eta 0:00:01\r\u001b[K     |███████████████████             | 143kB 9.3MB/s eta 0:00:01\r\u001b[K     |████████████████████▍           | 153kB 9.3MB/s eta 0:00:01\r\u001b[K     |█████████████████████▊          | 163kB 9.3MB/s eta 0:00:01\r\u001b[K     |███████████████████████         | 174kB 9.3MB/s eta 0:00:01\r\u001b[K     |████████████████████████▌       | 184kB 9.3MB/s eta 0:00:01\r\u001b[K     |█████████████████████████▉      | 194kB 9.3MB/s eta 0:00:01\r\u001b[K     |███████████████████████████▏    | 204kB 9.3MB/s eta 0:00:01\r\u001b[K     |████████████████████████████▌   | 215kB 9.3MB/s eta 0:00:01\r\u001b[K     |██████████████████████████████  | 225kB 9.3MB/s eta 0:00:01\r\u001b[K     |███████████████████████████████▎| 235kB 9.3MB/s eta 0:00:01\r\u001b[K     |████████████████████████████████| 245kB 9.3MB/s \n",
            "\u001b[?25hRequirement already satisfied: jsonschema!=3.1.0,>=2.6.0 in /usr/local/lib/python3.6/dist-packages (from comet-ml) (2.6.0)\n",
            "Collecting everett[ini]>=1.0.1; python_version >= \"3.0\"\n",
            "  Downloading https://files.pythonhosted.org/packages/fe/dc/38593280ec30fe1cb2611ec65554b76b68d13582bf490113e3332cdd85ea/everett-1.0.3-py2.py3-none-any.whl\n",
            "Requirement already satisfied: nvidia-ml-py3>=7.352.0 in /usr/local/lib/python3.6/dist-packages (from comet-ml) (7.352.0)\n",
            "Collecting websocket-client>=0.55.0\n",
            "\u001b[?25l  Downloading https://files.pythonhosted.org/packages/4c/5f/f61b420143ed1c8dc69f9eaec5ff1ac36109d52c80de49d66e0c36c3dfdf/websocket_client-0.57.0-py2.py3-none-any.whl (200kB)\n",
            "\u001b[K     |████████████████████████████████| 204kB 14.3MB/s \n",
            "\u001b[?25hRequirement already satisfied: wrapt>=1.11.2 in /usr/local/lib/python3.6/dist-packages (from comet-ml) (1.12.1)\n",
            "Requirement already satisfied: requests>=2.18.4 in /usr/local/lib/python3.6/dist-packages (from comet-ml) (2.23.0)\n",
            "Collecting netifaces>=0.10.7\n",
            "  Downloading https://files.pythonhosted.org/packages/0c/9b/c4c7eb09189548d45939a3d3a6b3d53979c67d124459b27a094c365c347f/netifaces-0.10.9-cp36-cp36m-manylinux1_x86_64.whl\n",
            "Requirement already satisfied: six in /usr/local/lib/python3.6/dist-packages (from comet-ml) (1.15.0)\n",
            "Collecting dulwich>=0.20.6; python_version >= \"3.0\"\n",
            "\u001b[?25l  Downloading https://files.pythonhosted.org/packages/1e/3e/b5ee0d62282190a2937cde50bd7744318ffbd688146953f6305ccfb73274/dulwich-0.20.14-cp36-cp36m-manylinux2010_x86_64.whl (501kB)\n",
            "\u001b[K     |████████████████████████████████| 512kB 17.7MB/s \n",
            "\u001b[?25hCollecting wurlitzer>=1.0.2\n",
            "  Downloading https://files.pythonhosted.org/packages/0c/1e/52f4effa64a447c4ec0fb71222799e2ac32c55b4b6c1725fccdf6123146e/wurlitzer-2.0.1-py2.py3-none-any.whl\n",
            "Collecting configobj; extra == \"ini\"\n",
            "  Downloading https://files.pythonhosted.org/packages/64/61/079eb60459c44929e684fa7d9e2fdca403f67d64dd9dbac27296be2e0fab/configobj-5.0.6.tar.gz\n",
            "Requirement already satisfied: certifi>=2017.4.17 in /usr/local/lib/python3.6/dist-packages (from requests>=2.18.4->comet-ml) (2020.12.5)\n",
            "Requirement already satisfied: urllib3!=1.25.0,!=1.25.1,<1.26,>=1.21.1 in /usr/local/lib/python3.6/dist-packages (from requests>=2.18.4->comet-ml) (1.24.3)\n",
            "Requirement already satisfied: chardet<4,>=3.0.2 in /usr/local/lib/python3.6/dist-packages (from requests>=2.18.4->comet-ml) (3.0.4)\n",
            "Requirement already satisfied: idna<3,>=2.5 in /usr/local/lib/python3.6/dist-packages (from requests>=2.18.4->comet-ml) (2.10)\n",
            "Building wheels for collected packages: configobj\n",
            "  Building wheel for configobj (setup.py) ... \u001b[?25l\u001b[?25hdone\n",
            "  Created wheel for configobj: filename=configobj-5.0.6-cp36-none-any.whl size=34545 sha256=d835b8071d35a119d2ef0d335862387f1a48ca77c43319fdac868898f3a69b8f\n",
            "  Stored in directory: /root/.cache/pip/wheels/f1/e4/16/4981ca97c2d65106b49861e0b35e2660695be7219a2d351ee0\n",
            "Successfully built configobj\n",
            "Installing collected packages: configobj, everett, websocket-client, netifaces, dulwich, wurlitzer, comet-ml\n",
            "Successfully installed comet-ml-3.2.9 configobj-5.0.6 dulwich-0.20.14 everett-1.0.3 netifaces-0.10.9 websocket-client-0.57.0 wurlitzer-2.0.1\n"
          ],
          "name": "stdout"
        }
      ]
    },
    {
      "cell_type": "code",
      "metadata": {
        "id": "hz-Dn26br4-R"
      },
      "source": [
        "from comet_ml import Experiment\n",
        "experiment = Experiment(\n",
        "    api_key='6JhNLsLXEsMpejFdH1y3Njut6',\n",
        "    auto_metric_logging=True,\n",
        "    auto_param_logging=True,\n",
        "    auto_histogram_weight_logging=True,\n",
        "    auto_histogram_gradient_logging=True,\n",
        "    auto_histogram_activation_logging=True,\n",
        ")\n",
        "\n",
        "\n",
        "import torch\n",
        "print(torch.cuda.is_available())\n",
        "print(torch.cuda.get_device_capability())"
      ],
      "execution_count": null,
      "outputs": []
    },
    {
      "cell_type": "code",
      "metadata": {
        "id": "NeD-IzS9K7A9"
      },
      "source": [
        "%tensorflow_version 2.x"
      ],
      "execution_count": null,
      "outputs": []
    },
    {
      "cell_type": "code",
      "metadata": {
        "id": "EueRfvPV6gQW",
        "colab": {
          "base_uri": "https://localhost:8080/"
        },
        "outputId": "eb8faa9e-1bb8-4dc9-a93b-e2bf2cba03f2"
      },
      "source": [
        "import tensorflow as tf\n",
        "print(tf.__version__)"
      ],
      "execution_count": null,
      "outputs": [
        {
          "output_type": "stream",
          "text": [
            "2.4.0\n"
          ],
          "name": "stdout"
        }
      ]
    },
    {
      "cell_type": "code",
      "metadata": {
        "id": "y-vvOwWQ-TtC"
      },
      "source": [
        "#from google.colab import drive\n",
        "#drive.mount('/content/drive')"
      ],
      "execution_count": null,
      "outputs": []
    },
    {
      "cell_type": "code",
      "metadata": {
        "id": "acC_WmNh6h__",
        "colab": {
          "base_uri": "https://localhost:8080/"
        },
        "outputId": "5c19926f-1495-42a1-f0b5-51becc348e23"
      },
      "source": [
        "!wget https://www.dropbox.com/s/nx6o5zsjlr5rhod/IDA.zip"
      ],
      "execution_count": null,
      "outputs": [
        {
          "output_type": "stream",
          "text": [
            "--2020-12-21 08:00:16--  https://www.dropbox.com/s/nx6o5zsjlr5rhod/IDA.zip\n",
            "Resolving www.dropbox.com (www.dropbox.com)... 162.125.1.18, 2620:100:6016:18::a27d:112\n",
            "Connecting to www.dropbox.com (www.dropbox.com)|162.125.1.18|:443... connected.\n",
            "HTTP request sent, awaiting response... 301 Moved Permanently\n",
            "Location: /s/raw/nx6o5zsjlr5rhod/IDA.zip [following]\n",
            "--2020-12-21 08:00:16--  https://www.dropbox.com/s/raw/nx6o5zsjlr5rhod/IDA.zip\n",
            "Reusing existing connection to www.dropbox.com:443.\n",
            "HTTP request sent, awaiting response... 302 Found\n",
            "Location: https://ucc1af509703e961a1562d907ad2.dl.dropboxusercontent.com/cd/0/inline/BFdhaybaEroS11imrxUrJXdoN_zZd9nkKoWDQw6MFSOlaqXma9Tj0obo2qSS4CkueSG-oIXh60RnGsVXbfJhafviR-XQBqufvsnimfmqcMZ6ydw6l2Et-97tszQJE3G6ulM/file# [following]\n",
            "--2020-12-21 08:00:17--  https://ucc1af509703e961a1562d907ad2.dl.dropboxusercontent.com/cd/0/inline/BFdhaybaEroS11imrxUrJXdoN_zZd9nkKoWDQw6MFSOlaqXma9Tj0obo2qSS4CkueSG-oIXh60RnGsVXbfJhafviR-XQBqufvsnimfmqcMZ6ydw6l2Et-97tszQJE3G6ulM/file\n",
            "Resolving ucc1af509703e961a1562d907ad2.dl.dropboxusercontent.com (ucc1af509703e961a1562d907ad2.dl.dropboxusercontent.com)... 162.125.1.15, 2620:100:6016:15::a27d:10f\n",
            "Connecting to ucc1af509703e961a1562d907ad2.dl.dropboxusercontent.com (ucc1af509703e961a1562d907ad2.dl.dropboxusercontent.com)|162.125.1.15|:443... connected.\n",
            "HTTP request sent, awaiting response... 302 Found\n",
            "Location: /cd/0/inline2/BFcBxFL2oCRgGZk7BcuuB3FDtcFIsQCXZmnrXlR7LZZa1VzJ8nGbMRIVmrHEfkp2yGFEoRyFU-lb6MEL2mcyn9LfZi1X10Hu4DhgNZQDEpKvR-NVUMtltojYD_qQAtflqDkVDVTDtWeGRvsZbKIn3vzWJsVoth59dqiJIOi2fMAP1t3JO4pgTAwLBUb_zvnDTdsQ1kQcsxkegANQ8aWg41RTm6bgbtDFuIFsgJZubJQha3sAX0SgN2iUAGjG1wetoTVALijRMMzgXSIoQ8CcC3EhC8sw97eE__obFZHXZAUXLxA5m63EanWfdH_I0MU-h-xXZS-VeKfEIz1yVLO35TJUp19q0RynBaHglT9RWMeoHw/file [following]\n",
            "--2020-12-21 08:00:17--  https://ucc1af509703e961a1562d907ad2.dl.dropboxusercontent.com/cd/0/inline2/BFcBxFL2oCRgGZk7BcuuB3FDtcFIsQCXZmnrXlR7LZZa1VzJ8nGbMRIVmrHEfkp2yGFEoRyFU-lb6MEL2mcyn9LfZi1X10Hu4DhgNZQDEpKvR-NVUMtltojYD_qQAtflqDkVDVTDtWeGRvsZbKIn3vzWJsVoth59dqiJIOi2fMAP1t3JO4pgTAwLBUb_zvnDTdsQ1kQcsxkegANQ8aWg41RTm6bgbtDFuIFsgJZubJQha3sAX0SgN2iUAGjG1wetoTVALijRMMzgXSIoQ8CcC3EhC8sw97eE__obFZHXZAUXLxA5m63EanWfdH_I0MU-h-xXZS-VeKfEIz1yVLO35TJUp19q0RynBaHglT9RWMeoHw/file\n",
            "Reusing existing connection to ucc1af509703e961a1562d907ad2.dl.dropboxusercontent.com:443.\n",
            "HTTP request sent, awaiting response... 200 OK\n",
            "Length: 11822084174 (11G) [application/zip]\n",
            "Saving to: ‘IDA.zip’\n",
            "\n",
            "IDA.zip             100%[===================>]  11.01G  68.3MB/s    in 2m 13s  \n",
            "\n",
            "2020-12-21 08:02:30 (85.0 MB/s) - ‘IDA.zip’ saved [11822084174/11822084174]\n",
            "\n"
          ],
          "name": "stdout"
        }
      ]
    },
    {
      "cell_type": "code",
      "metadata": {
        "id": "Ma3AI_eNJyTY",
        "colab": {
          "base_uri": "https://localhost:8080/"
        },
        "outputId": "de23c20d-8578-4f7f-fe54-7dd892fe369b"
      },
      "source": [
        "!wget https://www.dropbox.com/s/pj3kcpvx9nas5g3/loadbm.py"
      ],
      "execution_count": null,
      "outputs": [
        {
          "output_type": "stream",
          "text": [
            "--2020-12-21 08:02:34--  https://www.dropbox.com/s/pj3kcpvx9nas5g3/loadbm.py\n",
            "Resolving www.dropbox.com (www.dropbox.com)... 162.125.1.18, 2620:100:601f:18::a27d:912\n",
            "Connecting to www.dropbox.com (www.dropbox.com)|162.125.1.18|:443... connected.\n",
            "HTTP request sent, awaiting response... 301 Moved Permanently\n",
            "Location: /s/raw/pj3kcpvx9nas5g3/loadbm.py [following]\n",
            "--2020-12-21 08:02:34--  https://www.dropbox.com/s/raw/pj3kcpvx9nas5g3/loadbm.py\n",
            "Reusing existing connection to www.dropbox.com:443.\n",
            "HTTP request sent, awaiting response... 302 Found\n",
            "Location: https://uc9928f2a3e9f8d7a932e9268035.dl.dropboxusercontent.com/cd/0/inline/BFcINLZam2gEE9SQSPx7Kmw-_xNJ03rrO8CHN4B-fbU9FxQNP_aNNV3qHLB2kgBIq0TIEneYmSdnGZdsqdjWh5du8XH_4nq1ixPqE2pQGhfr5Y4-PdLraVh4GpN-ANtrYK0/file# [following]\n",
            "--2020-12-21 08:02:35--  https://uc9928f2a3e9f8d7a932e9268035.dl.dropboxusercontent.com/cd/0/inline/BFcINLZam2gEE9SQSPx7Kmw-_xNJ03rrO8CHN4B-fbU9FxQNP_aNNV3qHLB2kgBIq0TIEneYmSdnGZdsqdjWh5du8XH_4nq1ixPqE2pQGhfr5Y4-PdLraVh4GpN-ANtrYK0/file\n",
            "Resolving uc9928f2a3e9f8d7a932e9268035.dl.dropboxusercontent.com (uc9928f2a3e9f8d7a932e9268035.dl.dropboxusercontent.com)... 162.125.1.15, 2620:100:6016:15::a27d:10f\n",
            "Connecting to uc9928f2a3e9f8d7a932e9268035.dl.dropboxusercontent.com (uc9928f2a3e9f8d7a932e9268035.dl.dropboxusercontent.com)|162.125.1.15|:443... connected.\n",
            "HTTP request sent, awaiting response... 200 OK\n",
            "Length: 4117 (4.0K) [text/plain]\n",
            "Saving to: ‘loadbm.py’\n",
            "\n",
            "loadbm.py           100%[===================>]   4.02K  --.-KB/s    in 0s      \n",
            "\n",
            "2020-12-21 08:02:35 (230 MB/s) - ‘loadbm.py’ saved [4117/4117]\n",
            "\n"
          ],
          "name": "stdout"
        }
      ]
    },
    {
      "cell_type": "code",
      "metadata": {
        "id": "tcxCsSm_-q0r"
      },
      "source": [
        "%%capture\n",
        "!unzip IDA.zip"
      ],
      "execution_count": null,
      "outputs": []
    },
    {
      "cell_type": "code",
      "metadata": {
        "id": "Dbb3sJ4-MrXS"
      },
      "source": [
        "!rm IDA.zip"
      ],
      "execution_count": null,
      "outputs": []
    },
    {
      "cell_type": "code",
      "metadata": {
        "id": "nmKlRjh4Ixbk",
        "colab": {
          "base_uri": "https://localhost:8080/",
          "height": 206
        },
        "outputId": "9b312e1e-0318-4749-8f63-d3f4548fadb1"
      },
      "source": [
        "import numpy as np\n",
        "import os\n",
        "import ntpath\n",
        "import platform\n",
        "import matplotlib.pyplot as plt\n",
        "from loadbm import create_df, create_tf_dataset, prepare_for_training\n",
        "\n",
        "\n",
        "datapath = 'IDA/Separate lists with numbering/Machine learning splits'\n",
        "img_path = 'IDA/Images/'\n",
        "\n",
        "split = 1\n",
        "\n",
        "train_fname = 'train'+str(split)+'.txt'\n",
        "test_fname = 'test'+str(split)+'.txt'\n",
        "val_fname = 'val'+str(split)+'.txt'\n",
        "\n",
        "part_dat = False\n",
        "\n",
        "df_train = create_df(os.path.join(datapath, train_fname),\n",
        "                     img_path,\n",
        "                     partial_dataset=part_dat,\n",
        "                     seed=123)\n",
        "\n",
        "df_test = create_df(os.path.join(datapath, test_fname),\n",
        "                     img_path,\n",
        "                     partial_dataset=part_dat,\n",
        "                     seed=123)\n",
        "\n",
        "df_val = create_df(os.path.join(datapath, val_fname),\n",
        "                     img_path,\n",
        "                     partial_dataset=part_dat,\n",
        "                     seed=123)\n",
        "\n",
        "from sklearn.utils import shuffle\n",
        "\n",
        "df_train = shuffle(df_train)\n",
        "df_val = shuffle(df_val)\n",
        "\n",
        "df_train.head()"
      ],
      "execution_count": null,
      "outputs": [
        {
          "output_type": "execute_result",
          "data": {
            "text/html": [
              "<div>\n",
              "<style scoped>\n",
              "    .dataframe tbody tr th:only-of-type {\n",
              "        vertical-align: middle;\n",
              "    }\n",
              "\n",
              "    .dataframe tbody tr th {\n",
              "        vertical-align: top;\n",
              "    }\n",
              "\n",
              "    .dataframe thead th {\n",
              "        text-align: right;\n",
              "    }\n",
              "</style>\n",
              "<table border=\"1\" class=\"dataframe\">\n",
              "  <thead>\n",
              "    <tr style=\"text-align: right;\">\n",
              "      <th></th>\n",
              "      <th>path</th>\n",
              "      <th>label</th>\n",
              "    </tr>\n",
              "  </thead>\n",
              "  <tbody>\n",
              "    <tr>\n",
              "      <th>295871</th>\n",
              "      <td>IDA/Images/Simuliidae536/1-Simuliidae536.1.201...</td>\n",
              "      <td>37</td>\n",
              "    </tr>\n",
              "    <tr>\n",
              "      <th>89552</th>\n",
              "      <td>IDA/Images/Ephemerella_muc27/0-Ephemerella_muc...</td>\n",
              "      <td>10</td>\n",
              "    </tr>\n",
              "    <tr>\n",
              "      <th>260143</th>\n",
              "      <td>IDA/Images/Polycentropus_fla162/0-Polycentropu...</td>\n",
              "      <td>31</td>\n",
              "    </tr>\n",
              "    <tr>\n",
              "      <th>131251</th>\n",
              "      <td>IDA/Images/Hydropsyche_sil373/0-Hydropsyche_si...</td>\n",
              "      <td>15</td>\n",
              "    </tr>\n",
              "    <tr>\n",
              "      <th>49840</th>\n",
              "      <td>IDA/Images/Elmis_aen129/0-Elmis_aen129.1.2016-...</td>\n",
              "      <td>8</td>\n",
              "    </tr>\n",
              "  </tbody>\n",
              "</table>\n",
              "</div>"
            ],
            "text/plain": [
              "                                                     path  label\n",
              "295871  IDA/Images/Simuliidae536/1-Simuliidae536.1.201...     37\n",
              "89552   IDA/Images/Ephemerella_muc27/0-Ephemerella_muc...     10\n",
              "260143  IDA/Images/Polycentropus_fla162/0-Polycentropu...     31\n",
              "131251  IDA/Images/Hydropsyche_sil373/0-Hydropsyche_si...     15\n",
              "49840   IDA/Images/Elmis_aen129/0-Elmis_aen129.1.2016-...      8"
            ]
          },
          "metadata": {
            "tags": []
          },
          "execution_count": 8
        }
      ]
    },
    {
      "cell_type": "code",
      "metadata": {
        "id": "rk6XhlkMKo4Z",
        "colab": {
          "base_uri": "https://localhost:8080/"
        },
        "outputId": "13551a03-eefa-42dc-d879-6d3e8119e638"
      },
      "source": [
        "AUTOTUNE = tf.data.experimental.AUTOTUNE\n",
        "IMSIZE = (224,224,3)\n",
        "BATCH_SIZE = 128\n",
        "\n",
        "train_ds = create_tf_dataset(df_train, imsize=IMSIZE, onehot=True)\n",
        "\n",
        "val_ds = create_tf_dataset(df_val, imsize=IMSIZE, onehot=True)\n",
        "\n",
        "\n",
        "train_ds = prepare_for_training(train_ds, \n",
        "                                shuffle_buffer_size=1000,\n",
        "                                batch_size=BATCH_SIZE)\n",
        "\n",
        "val_ds = prepare_for_training(val_ds, \n",
        "                              shuffle_buffer_size=1000,\n",
        "                              batch_size=BATCH_SIZE)\n",
        "\n",
        "for image, label in train_ds.take(5):\n",
        "    print(image.shape)\n",
        "    print(label.shape)\n"
      ],
      "execution_count": null,
      "outputs": [
        {
          "output_type": "stream",
          "text": [
            "(128, 224, 224, 3)\n",
            "(128, 39)\n",
            "(128, 224, 224, 3)\n",
            "(128, 39)\n",
            "(128, 224, 224, 3)\n",
            "(128, 39)\n",
            "(128, 224, 224, 3)\n",
            "(128, 39)\n",
            "(128, 224, 224, 3)\n",
            "(128, 39)\n"
          ],
          "name": "stdout"
        }
      ]
    },
    {
      "cell_type": "code",
      "metadata": {
        "id": "9vrokTggUW2H",
        "colab": {
          "base_uri": "https://localhost:8080/",
          "height": 283
        },
        "outputId": "ebefd431-82bd-4b01-ee17-6440ab00cf35"
      },
      "source": [
        "import tensorflow.keras.backend as K\n",
        "\n",
        "def weighted_crossentropy(alpha=1.0):\n",
        "\n",
        "    def loss(y,yhat):\n",
        "        \n",
        "      y = K.cast(y, tf.float32)\n",
        "      yhat = tf.convert_to_tensor(yhat, dtype=y.dtype)\n",
        "\n",
        "      w_ce = -K.sum(y*K.log(yhat+1e-7)*alpha, axis=1)\n",
        "      \n",
        "      return w_ce\n",
        "\n",
        "    return loss\n",
        "\n",
        "alpha = np.histogram(df_train['label'], bins=39)[0]\n",
        "alpha[alpha==0] = np.sort(alpha)[1]\n",
        "alpha = 1 / alpha  \n",
        "alpha /= alpha.sum() \n",
        "\n",
        "plt.bar(range(1,40),alpha)\n"
      ],
      "execution_count": null,
      "outputs": [
        {
          "output_type": "execute_result",
          "data": {
            "text/plain": [
              "<BarContainer object of 39 artists>"
            ]
          },
          "metadata": {
            "tags": []
          },
          "execution_count": 12
        },
        {
          "output_type": "display_data",
          "data": {
            "image/png": "[encoded data removed]",
            "text/plain": [
              "<Figure size 432x288 with 1 Axes>"
            ]
          },
          "metadata": {
            "tags": [],
            "needs_background": "light"
          }
        }
      ]
    },
    {
      "cell_type": "code",
      "metadata": {
        "id": "CVO7otL1QyZy"
      },
      "source": [
        "from tensorflow.keras.models import Model\n",
        "from tensorflow.keras.applications.inception_v3 import InceptionV3\n",
        "from tensorflow.keras.layers import Dense, GlobalAveragePooling2D\n",
        "\n",
        "\n",
        "def get_pretrained(imsize=(224, 224, 3), classes=39):\n",
        "        base_model = InceptionV3(input_shape = imsize, \n",
        "                                 weights='imagenet', \n",
        "                                 include_top=False)\n",
        "        \n",
        "        base_model.trainable = True\n",
        "        \n",
        "        x = base_model.output\n",
        "        x = GlobalAveragePooling2D()(x)\n",
        "        x = Dense(256, activation='relu')(x)\n",
        "        predictions = Dense(classes, activation='softmax')(x)\n",
        "        \n",
        "        model = Model(inputs=base_model.input, outputs=predictions)\n",
        "        \n",
        "        return model\n",
        "\n",
        "model = get_pretrained()\n",
        "\n",
        "loss = weighted_crossentropy(alpha=alpha) \n",
        "\n",
        "model.compile(optimizer = 'adam', loss = loss,\n",
        "                  metrics=['accuracy'])"
      ],
      "execution_count": null,
      "outputs": []
    },
    {
      "cell_type": "code",
      "metadata": {
        "id": "f1ti7crdVUFL"
      },
      "source": [
        "!cp \"/content/drive/My Drive/koulu_honmia/kandi19/39-xx-2020.h5\" \"/content/\""
      ],
      "execution_count": null,
      "outputs": []
    },
    {
      "cell_type": "code",
      "metadata": {
        "id": "KRmb4FLOVPDD"
      },
      "source": [
        "model.load_weights('39-xx-2020.h5')\n",
        "tr_steps = len(df_train)//BATCH_SIZE\n",
        "val_steps = len(df_val)//BATCH_SIZE"
      ],
      "execution_count": null,
      "outputs": []
    },
    {
      "cell_type": "code",
      "metadata": {
        "id": "ZZgvJtY-Q2PM",
        "colab": {
          "base_uri": "https://localhost:8080/",
          "height": 380
        },
        "outputId": "4335ec16-2e06-4816-a652-6e370ef9fd7c"
      },
      "source": [
        "from tensorflow.keras.callbacks import CSVLogger\n",
        "import datetime\n",
        "\n",
        "\n",
        "tr_steps = len(df_train)//BATCH_SIZE\n",
        "val_steps = len(df_val)//BATCH_SIZE\n",
        "\n",
        "model.fit(train_ds, \n",
        "          validation_data= val_ds, \n",
        "          steps_per_epoch= tr_steps, \n",
        "          epochs = 10,\n",
        "          validation_steps = val_steps)\n"
      ],
      "execution_count": null,
      "outputs": [
        {
          "output_type": "stream",
          "text": [
            "Epoch 1/10\n"
          ],
          "name": "stdout"
        },
        {
          "output_type": "error",
          "ename": "ValueError",
          "evalue": "ignored",
          "traceback": [
            "\u001b[0;31m---------------------------------------------------------------------------\u001b[0m",
            "\u001b[0;31mValueError\u001b[0m                                Traceback (most recent call last)",
            "\u001b[0;32m<ipython-input-32-177b4efca82f>\u001b[0m in \u001b[0;36m<module>\u001b[0;34m()\u001b[0m\n\u001b[1;32m     10\u001b[0m           \u001b[0msteps_per_epoch\u001b[0m\u001b[0;34m=\u001b[0m \u001b[0mtr_steps\u001b[0m\u001b[0;34m,\u001b[0m\u001b[0;34m\u001b[0m\u001b[0;34m\u001b[0m\u001b[0m\n\u001b[1;32m     11\u001b[0m           \u001b[0mepochs\u001b[0m \u001b[0;34m=\u001b[0m \u001b[0;36m10\u001b[0m\u001b[0;34m,\u001b[0m\u001b[0;34m\u001b[0m\u001b[0;34m\u001b[0m\u001b[0m\n\u001b[0;32m---> 12\u001b[0;31m           validation_steps = val_steps)\n\u001b[0m",
            "\u001b[0;32m/usr/local/lib/python3.6/dist-packages/tensorflow/python/keras/engine/training.py\u001b[0m in \u001b[0;36mfit\u001b[0;34m(self, x, y, batch_size, epochs, verbose, callbacks, validation_split, validation_data, shuffle, class_weight, sample_weight, initial_epoch, steps_per_epoch, validation_steps, validation_batch_size, validation_freq, max_queue_size, workers, use_multiprocessing)\u001b[0m\n\u001b[1;32m   1098\u001b[0m                 _r=1):\n\u001b[1;32m   1099\u001b[0m               \u001b[0mcallbacks\u001b[0m\u001b[0;34m.\u001b[0m\u001b[0mon_train_batch_begin\u001b[0m\u001b[0;34m(\u001b[0m\u001b[0mstep\u001b[0m\u001b[0;34m)\u001b[0m\u001b[0;34m\u001b[0m\u001b[0;34m\u001b[0m\u001b[0m\n\u001b[0;32m-> 1100\u001b[0;31m               \u001b[0mtmp_logs\u001b[0m \u001b[0;34m=\u001b[0m \u001b[0mself\u001b[0m\u001b[0;34m.\u001b[0m\u001b[0mtrain_function\u001b[0m\u001b[0;34m(\u001b[0m\u001b[0miterator\u001b[0m\u001b[0;34m)\u001b[0m\u001b[0;34m\u001b[0m\u001b[0;34m\u001b[0m\u001b[0m\n\u001b[0m\u001b[1;32m   1101\u001b[0m               \u001b[0;32mif\u001b[0m \u001b[0mdata_handler\u001b[0m\u001b[0;34m.\u001b[0m\u001b[0mshould_sync\u001b[0m\u001b[0;34m:\u001b[0m\u001b[0;34m\u001b[0m\u001b[0;34m\u001b[0m\u001b[0m\n\u001b[1;32m   1102\u001b[0m                 \u001b[0mcontext\u001b[0m\u001b[0;34m.\u001b[0m\u001b[0masync_wait\u001b[0m\u001b[0;34m(\u001b[0m\u001b[0;34m)\u001b[0m\u001b[0;34m\u001b[0m\u001b[0;34m\u001b[0m\u001b[0m\n",
            "\u001b[0;32m/usr/local/lib/python3.6/dist-packages/tensorflow/python/eager/def_function.py\u001b[0m in \u001b[0;36m__call__\u001b[0;34m(self, *args, **kwds)\u001b[0m\n\u001b[1;32m    826\u001b[0m     \u001b[0mtracing_count\u001b[0m \u001b[0;34m=\u001b[0m \u001b[0mself\u001b[0m\u001b[0;34m.\u001b[0m\u001b[0mexperimental_get_tracing_count\u001b[0m\u001b[0;34m(\u001b[0m\u001b[0;34m)\u001b[0m\u001b[0;34m\u001b[0m\u001b[0;34m\u001b[0m\u001b[0m\n\u001b[1;32m    827\u001b[0m     \u001b[0;32mwith\u001b[0m \u001b[0mtrace\u001b[0m\u001b[0;34m.\u001b[0m\u001b[0mTrace\u001b[0m\u001b[0;34m(\u001b[0m\u001b[0mself\u001b[0m\u001b[0;34m.\u001b[0m\u001b[0m_name\u001b[0m\u001b[0;34m)\u001b[0m \u001b[0;32mas\u001b[0m \u001b[0mtm\u001b[0m\u001b[0;34m:\u001b[0m\u001b[0;34m\u001b[0m\u001b[0;34m\u001b[0m\u001b[0m\n\u001b[0;32m--> 828\u001b[0;31m       \u001b[0mresult\u001b[0m \u001b[0;34m=\u001b[0m \u001b[0mself\u001b[0m\u001b[0;34m.\u001b[0m\u001b[0m_call\u001b[0m\u001b[0;34m(\u001b[0m\u001b[0;34m*\u001b[0m\u001b[0margs\u001b[0m\u001b[0;34m,\u001b[0m \u001b[0;34m**\u001b[0m\u001b[0mkwds\u001b[0m\u001b[0;34m)\u001b[0m\u001b[0;34m\u001b[0m\u001b[0;34m\u001b[0m\u001b[0m\n\u001b[0m\u001b[1;32m    829\u001b[0m       \u001b[0mcompiler\u001b[0m \u001b[0;34m=\u001b[0m \u001b[0;34m\"xla\"\u001b[0m \u001b[0;32mif\u001b[0m \u001b[0mself\u001b[0m\u001b[0;34m.\u001b[0m\u001b[0m_experimental_compile\u001b[0m \u001b[0;32melse\u001b[0m \u001b[0;34m\"nonXla\"\u001b[0m\u001b[0;34m\u001b[0m\u001b[0;34m\u001b[0m\u001b[0m\n\u001b[1;32m    830\u001b[0m       \u001b[0mnew_tracing_count\u001b[0m \u001b[0;34m=\u001b[0m \u001b[0mself\u001b[0m\u001b[0;34m.\u001b[0m\u001b[0mexperimental_get_tracing_count\u001b[0m\u001b[0;34m(\u001b[0m\u001b[0;34m)\u001b[0m\u001b[0;34m\u001b[0m\u001b[0;34m\u001b[0m\u001b[0m\n",
            "\u001b[0;32m/usr/local/lib/python3.6/dist-packages/tensorflow/python/eager/def_function.py\u001b[0m in \u001b[0;36m_call\u001b[0;34m(self, *args, **kwds)\u001b[0m\n\u001b[1;32m    862\u001b[0m       \u001b[0mresults\u001b[0m \u001b[0;34m=\u001b[0m \u001b[0mself\u001b[0m\u001b[0;34m.\u001b[0m\u001b[0m_stateful_fn\u001b[0m\u001b[0;34m(\u001b[0m\u001b[0;34m*\u001b[0m\u001b[0margs\u001b[0m\u001b[0;34m,\u001b[0m \u001b[0;34m**\u001b[0m\u001b[0mkwds\u001b[0m\u001b[0;34m)\u001b[0m\u001b[0;34m\u001b[0m\u001b[0;34m\u001b[0m\u001b[0m\n\u001b[1;32m    863\u001b[0m       \u001b[0;32mif\u001b[0m \u001b[0mself\u001b[0m\u001b[0;34m.\u001b[0m\u001b[0m_created_variables\u001b[0m\u001b[0;34m:\u001b[0m\u001b[0;34m\u001b[0m\u001b[0;34m\u001b[0m\u001b[0m\n\u001b[0;32m--> 864\u001b[0;31m         raise ValueError(\"Creating variables on a non-first call to a function\"\n\u001b[0m\u001b[1;32m    865\u001b[0m                          \" decorated with tf.function.\")\n\u001b[1;32m    866\u001b[0m       \u001b[0;32mreturn\u001b[0m \u001b[0mresults\u001b[0m\u001b[0;34m\u001b[0m\u001b[0;34m\u001b[0m\u001b[0m\n",
            "\u001b[0;31mValueError\u001b[0m: Creating variables on a non-first call to a function decorated with tf.function."
          ]
        }
      ]
    },
    {
      "cell_type": "code",
      "metadata": {
        "id": "B4QoLL4m52Nn",
        "colab": {
          "base_uri": "https://localhost:8080/",
          "height": 224
        },
        "outputId": "7d8d5c9a-2014-4a27-8d22-faf368052817"
      },
      "source": [
        "from tensorflow.keras.optimizers import Adam\n",
        "adam = Adam(learning_rate=0.0001) #original 0.001\n",
        "\n",
        "from tensorflow.keras.callbacks import LearningRateScheduler\n",
        "def scheduler(epoch):\n",
        "    return 0.0001 * tf.math.exp(0.1 * (-epoch))\n",
        "\n",
        "lr_cb = LearningRateScheduler(scheduler)\n",
        "\n",
        "model.compile(optimizer = adam, loss = loss,\n",
        "                  metrics=['accuracy'])\n",
        "\n",
        "model.fit(train_ds, \n",
        "          validation_data= val_ds, \n",
        "          steps_per_epoch= tr_steps, \n",
        "          epochs = 5,\n",
        "          validation_steps = val_steps,\n",
        "          callbacks=[lr_cb])"
      ],
      "execution_count": null,
      "outputs": [
        {
          "output_type": "stream",
          "text": [
            "Epoch 1/5\n",
            "10043/10043 [==============================] - 1648s 164ms/step - loss: 5.6656e-05 - accuracy: 0.9977 - val_loss: 0.0078 - val_accuracy: 0.9018 - lr: 1.0000e-04\n",
            "Epoch 2/5\n",
            "10043/10043 [==============================] - 1653s 165ms/step - loss: 2.4159e-05 - accuracy: 0.9989 - val_loss: 0.0088 - val_accuracy: 0.9032 - lr: 9.0484e-05\n",
            "Epoch 3/5\n",
            "10043/10043 [==============================] - 1657s 165ms/step - loss: 1.8350e-05 - accuracy: 0.9992 - val_loss: 0.0091 - val_accuracy: 0.9012 - lr: 8.1873e-05\n",
            "Epoch 4/5\n",
            "10043/10043 [==============================] - 1641s 163ms/step - loss: 1.3653e-05 - accuracy: 0.9994 - val_loss: 0.0091 - val_accuracy: 0.9033 - lr: 7.4082e-05\n",
            "Epoch 5/5\n",
            "10043/10043 [==============================] - 1639s 163ms/step - loss: 1.0384e-05 - accuracy: 0.9996 - val_loss: 0.0096 - val_accuracy: 0.9052 - lr: 6.7032e-05\n"
          ],
          "name": "stdout"
        },
        {
          "output_type": "execute_result",
          "data": {
            "text/plain": [
              "<tensorflow.python.keras.callbacks.History at 0x7fb2a0666e48>"
            ]
          },
          "metadata": {
            "tags": []
          },
          "execution_count": 21
        }
      ]
    },
    {
      "cell_type": "code",
      "metadata": {
        "id": "suPv5Qxvla4Z",
        "colab": {
          "base_uri": "https://localhost:8080/",
          "height": 374
        },
        "outputId": "f023a7c7-8614-4a14-bca8-423c05015792"
      },
      "source": [
        "model.history.history"
      ],
      "execution_count": null,
      "outputs": [
        {
          "output_type": "execute_result",
          "data": {
            "text/plain": [
              "{'accuracy': [0.9976662993431091,\n",
              "  0.9989296197891235,\n",
              "  0.9992376565933228,\n",
              "  0.9993994832038879,\n",
              "  0.9996079206466675],\n",
              " 'loss': [5.665624848916195e-05,\n",
              "  2.415857306914404e-05,\n",
              "  1.835032890085131e-05,\n",
              "  1.3652674169861712e-05,\n",
              "  1.0384318557044026e-05],\n",
              " 'lr': [1e-04, 9.0483736e-05, 8.187308e-05, 7.4081814e-05, 6.7032e-05],\n",
              " 'val_accuracy': [0.9017825722694397,\n",
              "  0.9031990766525269,\n",
              "  0.901172399520874,\n",
              "  0.9033080339431763,\n",
              "  0.9052257537841797],\n",
              " 'val_loss': [0.00784209743142128,\n",
              "  0.008808779530227184,\n",
              "  0.009126507677137852,\n",
              "  0.009069603867828846,\n",
              "  0.0095578134059906]}"
            ]
          },
          "metadata": {
            "tags": []
          },
          "execution_count": 22
        }
      ]
    },
    {
      "cell_type": "code",
      "metadata": {
        "id": "fKh9VoPQ0Uu7"
      },
      "source": [
        "model.save('39-x2-2020.h5')"
      ],
      "execution_count": null,
      "outputs": []
    },
    {
      "cell_type": "code",
      "metadata": {
        "id": "l_TU5S5-0Z8G"
      },
      "source": [
        "!cp '39-x2-2020.h5' \"/content/drive/My Drive/koulu_honmia/kandi19/\""
      ],
      "execution_count": null,
      "outputs": []
    },
    {
      "cell_type": "markdown",
      "metadata": {
        "id": "nUXbmvd84VEv"
      },
      "source": [
        "Evaluation:"
      ]
    },
    {
      "cell_type": "code",
      "metadata": {
        "id": "u9OFVEmV4WvP"
      },
      "source": [
        "test_ds = create_tf_dataset(df_test, imsize=IMSIZE, onehot=True)\n",
        "test_ds = test_ds.batch(BATCH_SIZE)"
      ],
      "execution_count": null,
      "outputs": []
    },
    {
      "cell_type": "code",
      "metadata": {
        "id": "htSIMp_o4eHG"
      },
      "source": [
        "!cp \"/content/drive/My Drive/koulu_honmia/kandi19/benthic/combine_insects.py\" /content/"
      ],
      "execution_count": null,
      "outputs": []
    },
    {
      "cell_type": "code",
      "metadata": {
        "id": "Wg_5mmZy4zst",
        "colab": {
          "base_uri": "https://localhost:8080/",
          "height": 51
        },
        "outputId": "5dadd5a5-4c95-4a06-9906-94a52c804f6c"
      },
      "source": [
        "preds = model.predict(test_ds, verbose=True)\n",
        "yhat = np.argmax(preds,axis=1)+1\n",
        "y_test = df_test['label']\n",
        "\n",
        "acc = np.sum(yhat==y_test)/len(y_test)\n",
        "print('Image accuracy: {:.4f}'.format(acc))\n",
        "\n",
        "np.save('39-x2-2020.npy', preds)"
      ],
      "execution_count": null,
      "outputs": [
        {
          "output_type": "stream",
          "text": [
            "2897/2897 [==============================] - 172s 59ms/step\n",
            "Image accuracy: 0.8954\n"
          ],
          "name": "stdout"
        }
      ]
    },
    {
      "cell_type": "code",
      "metadata": {
        "id": "nB8zlcRuNTM4"
      },
      "source": [
        "!cp '39-x2-2020.npy' \"/content/drive/My Drive/koulu_honmia/kandi19/\""
      ],
      "execution_count": null,
      "outputs": []
    },
    {
      "cell_type": "code",
      "metadata": {
        "id": "mMrBm9fJ4-6D",
        "colab": {
          "base_uri": "https://localhost:8080/",
          "height": 34
        },
        "outputId": "ee3ea5b4-5087-44bd-e6dc-cf22b36c2371"
      },
      "source": [
        "#%% Insect combine\n",
        "from combine_insects import add_insect_class, add_yhat\n",
        "\n",
        "df_test_preds = add_insect_class(df_test)\n",
        "\n",
        "# adding predictions to dataframe for insect-wise prediction\n",
        "df_test_preds = add_yhat(df_test_preds,yhat)\n",
        "\n",
        "dfg = df_test_preds.groupby(['label','insect'],as_index=False)['pred'].agg(lambda x:x.value_counts().index[0])\n",
        "\n",
        "acc_g = np.sum(dfg['pred']==dfg['label'])/len(dfg)\n",
        "print('Aggregate accuracy: {:.4f}'.format(acc_g))"
      ],
      "execution_count": null,
      "outputs": [
        {
          "output_type": "stream",
          "text": [
            "Aggregate accuracy: 0.9358\n"
          ],
          "name": "stdout"
        }
      ]
    },
    {
      "cell_type": "code",
      "metadata": {
        "id": "2bEY8Ak67HxY",
        "colab": {
          "base_uri": "https://localhost:8080/",
          "height": 34
        },
        "outputId": "2bb5fccf-c99b-42e5-f404-8d61b4bbba0f"
      },
      "source": [
        "model.history.history"
      ],
      "execution_count": null,
      "outputs": [
        {
          "output_type": "execute_result",
          "data": {
            "text/plain": [
              "{}"
            ]
          },
          "metadata": {
            "tags": []
          },
          "execution_count": 30
        }
      ]
    },
    {
      "cell_type": "markdown",
      "metadata": {
        "id": "XAzEiGGDipn4"
      },
      "source": [
        "j"
      ]
    }
  ]
}