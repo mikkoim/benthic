{
  "nbformat": 4,
  "nbformat_minor": 0,
  "metadata": {
    "colab": {
      "name": "18-01-2020_colab_splitN.ipynb",
      "provenance": [],
      "collapsed_sections": []
    },
    "kernelspec": {
      "name": "python3",
      "display_name": "Python 3"
    },
    "accelerator": "GPU"
  },
  "cells": [
    {
      "cell_type": "code",
      "metadata": {
        "id": "hz-Dn26br4-R",
        "colab": {
          "base_uri": "https://localhost:8080/",
          "height": 51
        },
        "outputId": "a40a51a7-77fb-4581-ebd0-d75180d67382"
      },
      "source": [
        "\n",
        "import torch\n",
        "print(torch.cuda.is_available())\n",
        "print(torch.cuda.get_device_capability())"
      ],
      "execution_count": null,
      "outputs": [
        {
          "output_type": "stream",
          "text": [
            "True\n",
            "(6, 0)\n"
          ],
          "name": "stdout"
        }
      ]
    },
    {
      "cell_type": "code",
      "metadata": {
        "id": "NeD-IzS9K7A9"
      },
      "source": [
        "%tensorflow_version 2.x"
      ],
      "execution_count": null,
      "outputs": []
    },
    {
      "cell_type": "code",
      "metadata": {
        "id": "EueRfvPV6gQW",
        "colab": {
          "base_uri": "https://localhost:8080/",
          "height": 34
        },
        "outputId": "28634bb5-49b8-4504-b802-23f6aeafba8c"
      },
      "source": [
        "import tensorflow as tf\n",
        "print(tf.__version__)"
      ],
      "execution_count": null,
      "outputs": [
        {
          "output_type": "stream",
          "text": [
            "2.2.0-rc2\n"
          ],
          "name": "stdout"
        }
      ]
    },
    {
      "cell_type": "code",
      "metadata": {
        "id": "y-vvOwWQ-TtC",
        "colab": {
          "base_uri": "https://localhost:8080/",
          "height": 122
        },
        "outputId": "3bef4831-68ed-4a3f-d4c9-43737496c1ec"
      },
      "source": [
        "from google.colab import drive\n",
        "drive.mount('/content/drive')"
      ],
      "execution_count": null,
      "outputs": [
        {
          "output_type": "stream",
          "text": [
            "Go to this URL in a browser: https://accounts.google.com/o/oauth2/auth?client_id=947318989803-6bn6qk8qdgf4n4g3pfee6491hc0brc4i.apps.googleusercontent.com&redirect_uri=urn%3aietf%3awg%3aoauth%3a2.0%3aoob&response_type=code&scope=email%20https%3a%2f%2fwww.googleapis.com%2fauth%2fdocs.test%20https%3a%2f%2fwww.googleapis.com%2fauth%2fdrive%20https%3a%2f%2fwww.googleapis.com%2fauth%2fdrive.photos.readonly%20https%3a%2f%2fwww.googleapis.com%2fauth%2fpeopleapi.readonly\n",
            "\n",
            "Enter your authorization code:\n",
            "··········\n",
            "Mounted at /content/drive\n"
          ],
          "name": "stdout"
        }
      ]
    },
    {
      "cell_type": "code",
      "metadata": {
        "id": "acC_WmNh6h__"
      },
      "source": [
        "!cp \"/content/drive/My Drive/koulu_honmia/kandi19/IDA.zip\" /content/"
      ],
      "execution_count": null,
      "outputs": []
    },
    {
      "cell_type": "code",
      "metadata": {
        "id": "Ma3AI_eNJyTY"
      },
      "source": [
        "!cp \"/content/drive/My Drive/koulu_honmia/kandi19/benthic/loadbm.py\" /content/"
      ],
      "execution_count": null,
      "outputs": []
    },
    {
      "cell_type": "code",
      "metadata": {
        "id": "tcxCsSm_-q0r"
      },
      "source": [
        "%%capture\n",
        "!unzip IDA.zip"
      ],
      "execution_count": null,
      "outputs": []
    },
    {
      "cell_type": "code",
      "metadata": {
        "id": "nmKlRjh4Ixbk",
        "colab": {
          "base_uri": "https://localhost:8080/",
          "height": 204
        },
        "outputId": "4a9ffa3a-35ca-48ef-dd7a-9b7dcf54221c"
      },
      "source": [
        "import numpy as np\n",
        "import os\n",
        "import ntpath\n",
        "import platform\n",
        "import matplotlib.pyplot as plt\n",
        "from loadbm import create_df, create_tf_dataset, prepare_for_training\n",
        "\n",
        "\n",
        "datapath = 'IDA/Separate lists with numbering/Machine learning splits'\n",
        "img_path = 'IDA/Images/'\n",
        "\n",
        "split = 4\n",
        "\n",
        "train_fname = 'train'+str(split)+'.txt'\n",
        "test_fname = 'test'+str(split)+'.txt'\n",
        "val_fname = 'val'+str(split)+'.txt'\n",
        "\n",
        "part_dat = False\n",
        "\n",
        "df_train = create_df(os.path.join(datapath, train_fname),\n",
        "                     img_path,\n",
        "                     partial_dataset=part_dat,\n",
        "                     seed=123)\n",
        "\n",
        "df_test = create_df(os.path.join(datapath, test_fname),\n",
        "                     img_path,\n",
        "                     partial_dataset=part_dat,\n",
        "                     seed=123)\n",
        "\n",
        "df_val = create_df(os.path.join(datapath, val_fname),\n",
        "                     img_path,\n",
        "                     partial_dataset=part_dat,\n",
        "                     seed=123)\n",
        "\n",
        "from sklearn.utils import shuffle\n",
        "\n",
        "df_train = shuffle(df_train)\n",
        "df_val = shuffle(df_val)\n",
        "\n",
        "df_train.head()"
      ],
      "execution_count": null,
      "outputs": [
        {
          "output_type": "execute_result",
          "data": {
            "text/html": [
              "<div>\n",
              "<style scoped>\n",
              "    .dataframe tbody tr th:only-of-type {\n",
              "        vertical-align: middle;\n",
              "    }\n",
              "\n",
              "    .dataframe tbody tr th {\n",
              "        vertical-align: top;\n",
              "    }\n",
              "\n",
              "    .dataframe thead th {\n",
              "        text-align: right;\n",
              "    }\n",
              "</style>\n",
              "<table border=\"1\" class=\"dataframe\">\n",
              "  <thead>\n",
              "    <tr style=\"text-align: right;\">\n",
              "      <th></th>\n",
              "      <th>path</th>\n",
              "      <th>label</th>\n",
              "    </tr>\n",
              "  </thead>\n",
              "  <tbody>\n",
              "    <tr>\n",
              "      <th>204358</th>\n",
              "      <td>IDA/Images/Micrasema_set12/1-Micrasema_set12.1...</td>\n",
              "      <td>24</td>\n",
              "    </tr>\n",
              "    <tr>\n",
              "      <th>170497</th>\n",
              "      <td>IDA/Images/Leptophlebia396/1-Leptophlebia396.1...</td>\n",
              "      <td>19</td>\n",
              "    </tr>\n",
              "    <tr>\n",
              "      <th>97622</th>\n",
              "      <td>IDA/Images/Heptagenia_sul205/0-Heptagenia_sul2...</td>\n",
              "      <td>11</td>\n",
              "    </tr>\n",
              "    <tr>\n",
              "      <th>14454</th>\n",
              "      <td>IDA/Images/Amphinemura_bor106/1-Amphinemura_bo...</td>\n",
              "      <td>3</td>\n",
              "    </tr>\n",
              "    <tr>\n",
              "      <th>6578</th>\n",
              "      <td>IDA/Images/Agapetus269/0-Agapetus269.1.2016-12...</td>\n",
              "      <td>1</td>\n",
              "    </tr>\n",
              "  </tbody>\n",
              "</table>\n",
              "</div>"
            ],
            "text/plain": [
              "                                                     path  label\n",
              "204358  IDA/Images/Micrasema_set12/1-Micrasema_set12.1...     24\n",
              "170497  IDA/Images/Leptophlebia396/1-Leptophlebia396.1...     19\n",
              "97622   IDA/Images/Heptagenia_sul205/0-Heptagenia_sul2...     11\n",
              "14454   IDA/Images/Amphinemura_bor106/1-Amphinemura_bo...      3\n",
              "6578    IDA/Images/Agapetus269/0-Agapetus269.1.2016-12...      1"
            ]
          },
          "metadata": {
            "tags": []
          },
          "execution_count": 8
        }
      ]
    },
    {
      "cell_type": "code",
      "metadata": {
        "id": "rk6XhlkMKo4Z",
        "colab": {
          "base_uri": "https://localhost:8080/",
          "height": 187
        },
        "outputId": "f479d1de-c618-413e-c3ec-f8ff76c8baf9"
      },
      "source": [
        "AUTOTUNE = tf.data.experimental.AUTOTUNE\n",
        "IMSIZE = (224,224,3)\n",
        "BATCH_SIZE = 32\n",
        "\n",
        "train_ds = create_tf_dataset(df_train, imsize=IMSIZE, onehot=True)\n",
        "\n",
        "val_ds = create_tf_dataset(df_val, imsize=IMSIZE, onehot=True)\n",
        "\n",
        "\n",
        "train_ds = prepare_for_training(train_ds, \n",
        "                                shuffle_buffer_size=1000,\n",
        "                                batch_size=BATCH_SIZE)\n",
        "\n",
        "val_ds = prepare_for_training(val_ds, \n",
        "                              shuffle_buffer_size=1000,\n",
        "                              batch_size=BATCH_SIZE)\n",
        "\n",
        "for image, label in train_ds.take(5):\n",
        "    print(image.shape)\n",
        "    print(label.shape)\n"
      ],
      "execution_count": null,
      "outputs": [
        {
          "output_type": "stream",
          "text": [
            "(32, 224, 224, 3)\n",
            "(32, 39)\n",
            "(32, 224, 224, 3)\n",
            "(32, 39)\n",
            "(32, 224, 224, 3)\n",
            "(32, 39)\n",
            "(32, 224, 224, 3)\n",
            "(32, 39)\n",
            "(32, 224, 224, 3)\n",
            "(32, 39)\n"
          ],
          "name": "stdout"
        }
      ]
    },
    {
      "cell_type": "code",
      "metadata": {
        "id": "CVO7otL1QyZy",
        "colab": {
          "base_uri": "https://localhost:8080/",
          "height": 51
        },
        "outputId": "77e494a8-24ab-4cd1-9291-eec75318e25a"
      },
      "source": [
        "from tensorflow.keras.models import Model\n",
        "from tensorflow.keras.applications.inception_v3 import InceptionV3\n",
        "from tensorflow.keras.layers import Dense, GlobalAveragePooling2D\n",
        "\n",
        "\n",
        "def get_pretrained(imsize=(224, 224, 3), classes=39):\n",
        "        base_model = InceptionV3(input_shape = imsize, \n",
        "                                 weights='imagenet', \n",
        "                                 include_top=False)\n",
        "        \n",
        "        base_model.trainable = True\n",
        "        \n",
        "        x = base_model.output\n",
        "        x = GlobalAveragePooling2D()(x)\n",
        "        x = Dense(256, activation='relu')(x)\n",
        "        predictions = Dense(classes, activation='softmax')(x)\n",
        "        \n",
        "        model = Model(inputs=base_model.input, outputs=predictions)\n",
        "        \n",
        "        return model\n",
        "\n",
        "model = get_pretrained()\n",
        "model.compile(optimizer = 'adam', loss = 'categorical_crossentropy',\n",
        "                  metrics=['accuracy'])\n"
      ],
      "execution_count": null,
      "outputs": [
        {
          "output_type": "stream",
          "text": [
            "Downloading data from https://storage.googleapis.com/tensorflow/keras-applications/inception_v3/inception_v3_weights_tf_dim_ordering_tf_kernels_notop.h5\n",
            "87916544/87910968 [==============================] - 1s 0us/step\n"
          ],
          "name": "stdout"
        }
      ]
    },
    {
      "cell_type": "code",
      "metadata": {
        "id": "B4QoLL4m52Nn",
        "colab": {
          "base_uri": "https://localhost:8080/",
          "height": 357
        },
        "outputId": "1b3ae229-e423-4936-a7f8-a76abd328a07"
      },
      "source": [
        "from tensorflow.keras.callbacks import CSVLogger\n",
        "import datetime\n",
        "\n",
        "tr_steps = len(df_train)//BATCH_SIZE\n",
        "val_steps = len(df_val)//BATCH_SIZE\n",
        "\n",
        "model.fit(train_ds, \n",
        "          validation_data= val_ds, \n",
        "          steps_per_epoch= tr_steps, \n",
        "          epochs = 10,\n",
        "          validation_steps = val_steps)\n",
        "\n",
        "model.save('18-01-2020_cont_colab_split4.h5')"
      ],
      "execution_count": null,
      "outputs": [
        {
          "output_type": "stream",
          "text": [
            "Epoch 1/10\n",
            "10083/10083 [==============================] - 1665s 165ms/step - loss: 0.4487 - accuracy: 0.8571 - val_loss: 0.8530 - val_accuracy: 0.7851\n",
            "Epoch 2/10\n",
            "10083/10083 [==============================] - 1659s 165ms/step - loss: 0.1105 - accuracy: 0.9636 - val_loss: 0.8437 - val_accuracy: 0.8087\n",
            "Epoch 3/10\n",
            "10083/10083 [==============================] - 1657s 164ms/step - loss: 0.0637 - accuracy: 0.9795 - val_loss: 0.9379 - val_accuracy: 0.8025\n",
            "Epoch 4/10\n",
            "10083/10083 [==============================] - 1652s 164ms/step - loss: 0.0456 - accuracy: 0.9856 - val_loss: 0.5616 - val_accuracy: 0.8687\n",
            "Epoch 5/10\n",
            "10083/10083 [==============================] - 1650s 164ms/step - loss: 0.0355 - accuracy: 0.9886 - val_loss: 1.8063 - val_accuracy: 0.6717\n",
            "Epoch 6/10\n",
            "10083/10083 [==============================] - 1649s 164ms/step - loss: 0.0291 - accuracy: 0.9910 - val_loss: 0.4792 - val_accuracy: 0.8975\n",
            "Epoch 7/10\n",
            "10083/10083 [==============================] - 1649s 164ms/step - loss: 0.0252 - accuracy: 0.9923 - val_loss: 0.6243 - val_accuracy: 0.8741\n",
            "Epoch 8/10\n",
            "10083/10083 [==============================] - 1650s 164ms/step - loss: 0.0228 - accuracy: 0.9931 - val_loss: 0.6514 - val_accuracy: 0.8694\n",
            "Epoch 9/10\n",
            "10083/10083 [==============================] - 1648s 163ms/step - loss: 0.0195 - accuracy: 0.9940 - val_loss: 0.5503 - val_accuracy: 0.9006\n",
            "Epoch 10/10\n",
            "10083/10083 [==============================] - 1649s 164ms/step - loss: 0.0179 - accuracy: 0.9945 - val_loss: 0.6800 - val_accuracy: 0.8866\n"
          ],
          "name": "stdout"
        }
      ]
    },
    {
      "cell_type": "code",
      "metadata": {
        "id": "2RTBRMsIhnP6"
      },
      "source": [
        "!cp '18-01-2020_cont_colab_split4.h5' \"/content/drive/My Drive/koulu_honmia/kandi19/\""
      ],
      "execution_count": null,
      "outputs": []
    },
    {
      "cell_type": "code",
      "metadata": {
        "id": "TX9zBXljhgGi",
        "colab": {
          "base_uri": "https://localhost:8080/",
          "height": 204
        },
        "outputId": "ea8fa6d7-b914-4178-eb12-ce9648c61525"
      },
      "source": [
        "\n",
        "#### Cont training #####\n",
        "from tensorflow.keras.optimizers import Adam\n",
        "adam = Adam(learning_rate=0.0001) #original 0.001\n",
        "\n",
        "from tensorflow.keras.callbacks import LearningRateScheduler\n",
        "def scheduler(epoch):\n",
        "    return 0.0001 * tf.math.exp(0.1 * (-epoch))\n",
        "\n",
        "lr_cb = LearningRateScheduler(scheduler)\n",
        "\n",
        "model.compile(optimizer = adam, loss = 'categorical_crossentropy',\n",
        "                  metrics=['accuracy'])\n",
        "\n",
        "model.fit(train_ds, \n",
        "          validation_data= val_ds, \n",
        "          steps_per_epoch= tr_steps, \n",
        "          epochs = 5,\n",
        "          validation_steps = val_steps,\n",
        "          callbacks=[lr_cb])"
      ],
      "execution_count": null,
      "outputs": [
        {
          "output_type": "stream",
          "text": [
            "Epoch 1/5\n",
            "10083/10083 [==============================] - 1649s 164ms/step - loss: 0.0024 - accuracy: 0.9993 - val_loss: 0.4376 - val_accuracy: 0.9309 - lr: 1.0000e-04\n",
            "Epoch 2/5\n",
            "10083/10083 [==============================] - 1649s 164ms/step - loss: 5.4764e-04 - accuracy: 0.9998 - val_loss: 0.4679 - val_accuracy: 0.9316 - lr: 9.0484e-05\n",
            "Epoch 3/5\n",
            "10083/10083 [==============================] - 1648s 163ms/step - loss: 4.4364e-04 - accuracy: 0.9999 - val_loss: 0.4957 - val_accuracy: 0.9292 - lr: 8.1873e-05\n",
            "Epoch 4/5\n",
            "10083/10083 [==============================] - 1654s 164ms/step - loss: 4.0096e-04 - accuracy: 0.9999 - val_loss: 0.4900 - val_accuracy: 0.9325 - lr: 7.4082e-05\n",
            "Epoch 5/5\n",
            "10083/10083 [==============================] - 1657s 164ms/step - loss: 2.0642e-04 - accuracy: 0.9999 - val_loss: 0.5062 - val_accuracy: 0.9341 - lr: 6.7032e-05\n"
          ],
          "name": "stdout"
        },
        {
          "output_type": "execute_result",
          "data": {
            "text/plain": [
              "<tensorflow.python.keras.callbacks.History at 0x7fa6b2cdc780>"
            ]
          },
          "metadata": {
            "tags": []
          },
          "execution_count": 13
        }
      ]
    },
    {
      "cell_type": "code",
      "metadata": {
        "id": "fKh9VoPQ0Uu7"
      },
      "source": [
        "model.save('18-01-2020_cont_colab_split4.h5')"
      ],
      "execution_count": null,
      "outputs": []
    },
    {
      "cell_type": "code",
      "metadata": {
        "id": "l_TU5S5-0Z8G"
      },
      "source": [
        "!cp '18-01-2020_cont_colab_split4.h5' \"/content/drive/My Drive/koulu_honmia/kandi19/\""
      ],
      "execution_count": null,
      "outputs": []
    },
    {
      "cell_type": "markdown",
      "metadata": {
        "id": "nUXbmvd84VEv"
      },
      "source": [
        "Evaluation:"
      ]
    },
    {
      "cell_type": "code",
      "metadata": {
        "id": "u9OFVEmV4WvP"
      },
      "source": [
        "test_ds = create_tf_dataset(df_test, imsize=IMSIZE, onehot=True)\n",
        "test_ds = test_ds.batch(BATCH_SIZE)"
      ],
      "execution_count": null,
      "outputs": []
    },
    {
      "cell_type": "code",
      "metadata": {
        "id": "htSIMp_o4eHG"
      },
      "source": [
        "!cp \"/content/drive/My Drive/koulu_honmia/kandi19/benthic/combine_insects.py\" /content/"
      ],
      "execution_count": null,
      "outputs": []
    },
    {
      "cell_type": "code",
      "metadata": {
        "id": "Wg_5mmZy4zst",
        "colab": {
          "base_uri": "https://localhost:8080/",
          "height": 51
        },
        "outputId": "cd52c1ad-16b8-45bc-a49e-cc5ea890cf13"
      },
      "source": [
        "preds = model.predict(test_ds, verbose=True)\n",
        "yhat = np.argmax(preds,axis=1)+1\n",
        "y_test = df_test['label']\n",
        "\n",
        "acc = np.sum(yhat==y_test)/len(y_test)\n",
        "print('Image accuracy: {:.4f}'.format(acc))\n",
        "\n",
        "np.save('18-01-2020_cont_colab_split4.npy', preds)"
      ],
      "execution_count": null,
      "outputs": [
        {
          "output_type": "stream",
          "text": [
            "2876/2876 [==============================] - 173s 60ms/step\n",
            "Image accuracy: 0.9273\n"
          ],
          "name": "stdout"
        }
      ]
    },
    {
      "cell_type": "code",
      "metadata": {
        "id": "hBJscekrY4Mt"
      },
      "source": [
        "!cp '18-01-2020_cont_colab_split4.npy' \"/content/drive/My Drive/koulu_honmia/kandi19/\" "
      ],
      "execution_count": null,
      "outputs": []
    },
    {
      "cell_type": "code",
      "metadata": {
        "id": "mMrBm9fJ4-6D",
        "colab": {
          "base_uri": "https://localhost:8080/",
          "height": 34
        },
        "outputId": "c62e5af7-4ed7-49ad-d288-163490076e82"
      },
      "source": [
        "#%% Insect combine\n",
        "from combine_insects import add_insect_class, add_yhat\n",
        "\n",
        "df_test_preds = add_insect_class(df_test)\n",
        "\n",
        "# adding predictions to dataframe for insect-wise prediction\n",
        "df_test_preds = add_yhat(df_test_preds,yhat)\n",
        "\n",
        "dfg = df_test_preds.groupby(['label','insect'],as_index=False)['pred'].agg(lambda x:x.value_counts().index[0])\n",
        "\n",
        "acc_g = np.sum(dfg['pred']==dfg['label'])/len(dfg)\n",
        "print('Aggregate accuracy: {:.4f}'.format(acc_g))"
      ],
      "execution_count": null,
      "outputs": [
        {
          "output_type": "stream",
          "text": [
            "Aggregate accuracy: 0.9545\n"
          ],
          "name": "stdout"
        }
      ]
    },
    {
      "cell_type": "markdown",
      "metadata": {
        "id": "gtb25xasb7KF"
      },
      "source": [
        ""
      ]
    }
  ]
}