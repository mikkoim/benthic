{
  "nbformat": 4,
  "nbformat_minor": 0,
  "metadata": {
    "colab": {
      "name": "26-01-2020_ref_p5.ipynb",
      "provenance": [],
      "collapsed_sections": [],
      "toc_visible": true,
      "machine_shape": "hm"
    },
    "kernelspec": {
      "name": "python3",
      "display_name": "Python 3"
    },
    "accelerator": "GPU"
  },
  "cells": [
    {
      "cell_type": "code",
      "metadata": {
        "id": "hz-Dn26br4-R"
      },
      "source": [
        "\n",
        "import torch\n",
        "print(torch.cuda.is_available())\n",
        "print(torch.cuda.get_device_capability())"
      ],
      "execution_count": null,
      "outputs": []
    },
    {
      "cell_type": "code",
      "metadata": {
        "id": "NeD-IzS9K7A9"
      },
      "source": [
        "%tensorflow_version 2.x"
      ],
      "execution_count": null,
      "outputs": []
    },
    {
      "cell_type": "code",
      "metadata": {
        "id": "EueRfvPV6gQW",
        "colab": {
          "base_uri": "https://localhost:8080/",
          "height": 34
        },
        "outputId": "8fd986ad-351f-491e-dc78-4fbab384eb3f"
      },
      "source": [
        "import tensorflow as tf\n",
        "print(tf.__version__)"
      ],
      "execution_count": null,
      "outputs": [
        {
          "output_type": "stream",
          "text": [
            "2.1.0-rc1\n"
          ],
          "name": "stdout"
        }
      ]
    },
    {
      "cell_type": "code",
      "metadata": {
        "id": "y-vvOwWQ-TtC",
        "colab": {
          "base_uri": "https://localhost:8080/",
          "height": 122
        },
        "outputId": "3acf744b-31f9-4561-8de5-ef5bdabacccb"
      },
      "source": [
        "from google.colab import drive\n",
        "drive.mount('/content/drive')"
      ],
      "execution_count": null,
      "outputs": [
        {
          "output_type": "stream",
          "text": [
            "Go to this URL in a browser: https://accounts.google.com/o/oauth2/auth?client_id=947318989803-6bn6qk8qdgf4n4g3pfee6491hc0brc4i.apps.googleusercontent.com&redirect_uri=urn%3aietf%3awg%3aoauth%3a2.0%3aoob&response_type=code&scope=email%20https%3a%2f%2fwww.googleapis.com%2fauth%2fdocs.test%20https%3a%2f%2fwww.googleapis.com%2fauth%2fdrive%20https%3a%2f%2fwww.googleapis.com%2fauth%2fdrive.photos.readonly%20https%3a%2f%2fwww.googleapis.com%2fauth%2fpeopleapi.readonly\n",
            "\n",
            "Enter your authorization code:\n",
            "··········\n",
            "Mounted at /content/drive\n"
          ],
          "name": "stdout"
        }
      ]
    },
    {
      "cell_type": "code",
      "metadata": {
        "id": "acC_WmNh6h__"
      },
      "source": [
        "!cp \"/content/drive/My Drive/koulu_honmia/kandi19/benthic/colab_ds.zip\" /content/"
      ],
      "execution_count": null,
      "outputs": []
    },
    {
      "cell_type": "code",
      "metadata": {
        "id": "Ma3AI_eNJyTY"
      },
      "source": [
        "!cp \"/content/drive/My Drive/koulu_honmia/kandi19/benthic/df_train.pkl\" /content/\n",
        "!cp \"/content/drive/My Drive/koulu_honmia/kandi19/benthic/df_test.pkl\" /content/\n",
        "!cp \"/content/drive/My Drive/koulu_honmia/kandi19/benthic/df_val.pkl\" /content/\n",
        "!cp \"/content/drive/My Drive/koulu_honmia/kandi19/benthic/loadbm.py\" /content/"
      ],
      "execution_count": null,
      "outputs": []
    },
    {
      "cell_type": "code",
      "metadata": {
        "id": "tcxCsSm_-q0r"
      },
      "source": [
        "!unzip colab_ds.zip"
      ],
      "execution_count": null,
      "outputs": []
    },
    {
      "cell_type": "code",
      "metadata": {
        "id": "nmKlRjh4Ixbk",
        "colab": {
          "base_uri": "https://localhost:8080/",
          "height": 204
        },
        "outputId": "77d9d5c2-ba3b-4ddd-c4ee-c86e40fb6c66"
      },
      "source": [
        "import numpy as np\n",
        "import os\n",
        "import ntpath\n",
        "import platform\n",
        "import matplotlib.pyplot as plt\n",
        "from loadbm import create_tf_dataset, prepare_for_training\n",
        "\n",
        "df_train = np.load('df_train.pkl',allow_pickle=True)\n",
        "df_test = np.load('df_test.pkl',allow_pickle=True)\n",
        "df_val = np.load('df_val.pkl',allow_pickle=True)\n",
        "\n",
        "def fix_path(fpath):\n",
        "  path, file_ = ntpath.split(fpath)\n",
        "  _, folder = ntpath.split(path)\n",
        "  \n",
        "  return os.path.join('colab_ds',folder,file_)\n",
        "\n",
        "df_train['path'] = df_train['path'].apply(fix_path)\n",
        "df_test['path'] = df_test['path'].apply(fix_path)\n",
        "df_val['path'] = df_val['path'].apply(fix_path)\n",
        "\n",
        "from sklearn.utils import shuffle\n",
        "\n",
        "df_train = shuffle(df_train)\n",
        "df_val = shuffle(df_val)\n",
        "\n",
        "df_train.head()"
      ],
      "execution_count": null,
      "outputs": [
        {
          "output_type": "execute_result",
          "data": {
            "text/html": [
              "<div>\n",
              "<style scoped>\n",
              "    .dataframe tbody tr th:only-of-type {\n",
              "        vertical-align: middle;\n",
              "    }\n",
              "\n",
              "    .dataframe tbody tr th {\n",
              "        vertical-align: top;\n",
              "    }\n",
              "\n",
              "    .dataframe thead th {\n",
              "        text-align: right;\n",
              "    }\n",
              "</style>\n",
              "<table border=\"1\" class=\"dataframe\">\n",
              "  <thead>\n",
              "    <tr style=\"text-align: right;\">\n",
              "      <th></th>\n",
              "      <th>path</th>\n",
              "      <th>label</th>\n",
              "    </tr>\n",
              "  </thead>\n",
              "  <tbody>\n",
              "    <tr>\n",
              "      <th>289229</th>\n",
              "      <td>colab_ds/Simuliidae358/0-Simuliidae358.1.2016-...</td>\n",
              "      <td>37</td>\n",
              "    </tr>\n",
              "    <tr>\n",
              "      <th>185806</th>\n",
              "      <td>colab_ds/Limnius_vol143/0-Limnius_vol143.1.201...</td>\n",
              "      <td>22</td>\n",
              "    </tr>\n",
              "    <tr>\n",
              "      <th>263018</th>\n",
              "      <td>colab_ds/Polycentropus_fla30/0-Polycentropus_f...</td>\n",
              "      <td>31</td>\n",
              "    </tr>\n",
              "    <tr>\n",
              "      <th>69461</th>\n",
              "      <td>colab_ds/Elmis_aen632/0-Elmis_aen632.1.2016-12...</td>\n",
              "      <td>8</td>\n",
              "    </tr>\n",
              "    <tr>\n",
              "      <th>238615</th>\n",
              "      <td>colab_ds/Oulimnius_tub171/0-Oulimnius_tub171.1...</td>\n",
              "      <td>28</td>\n",
              "    </tr>\n",
              "  </tbody>\n",
              "</table>\n",
              "</div>"
            ],
            "text/plain": [
              "                                                     path  label\n",
              "289229  colab_ds/Simuliidae358/0-Simuliidae358.1.2016-...     37\n",
              "185806  colab_ds/Limnius_vol143/0-Limnius_vol143.1.201...     22\n",
              "263018  colab_ds/Polycentropus_fla30/0-Polycentropus_f...     31\n",
              "69461   colab_ds/Elmis_aen632/0-Elmis_aen632.1.2016-12...      8\n",
              "238615  colab_ds/Oulimnius_tub171/0-Oulimnius_tub171.1...     28"
            ]
          },
          "metadata": {
            "tags": []
          },
          "execution_count": 7
        }
      ]
    },
    {
      "cell_type": "code",
      "metadata": {
        "id": "rk6XhlkMKo4Z",
        "colab": {
          "base_uri": "https://localhost:8080/",
          "height": 187
        },
        "outputId": "2cce8f94-4e9f-4dae-f314-04a2ec22b51e"
      },
      "source": [
        "AUTOTUNE = tf.data.experimental.AUTOTUNE\n",
        "IMSIZE = (224,224,3)\n",
        "BATCH_SIZE = 32\n",
        "\n",
        "train_ds = create_tf_dataset(df_train, imsize=IMSIZE, onehot=True)\n",
        "\n",
        "val_ds = create_tf_dataset(df_val, imsize=IMSIZE, onehot=True)\n",
        "\n",
        "\n",
        "train_ds = prepare_for_training(train_ds, \n",
        "                                shuffle_buffer_size=1000,\n",
        "                                batch_size=BATCH_SIZE)\n",
        "\n",
        "val_ds = prepare_for_training(val_ds, \n",
        "                              shuffle_buffer_size=1000,\n",
        "                              batch_size=BATCH_SIZE)\n",
        "\n",
        "for image, label in train_ds.take(5):\n",
        "    print(image.shape)\n",
        "    print(label.shape)\n"
      ],
      "execution_count": null,
      "outputs": [
        {
          "output_type": "stream",
          "text": [
            "(32, 224, 224, 3)\n",
            "(32, 39)\n",
            "(32, 224, 224, 3)\n",
            "(32, 39)\n",
            "(32, 224, 224, 3)\n",
            "(32, 39)\n",
            "(32, 224, 224, 3)\n",
            "(32, 39)\n",
            "(32, 224, 224, 3)\n",
            "(32, 39)\n"
          ],
          "name": "stdout"
        }
      ]
    },
    {
      "cell_type": "code",
      "metadata": {
        "id": "CVO7otL1QyZy",
        "colab": {
          "base_uri": "https://localhost:8080/",
          "height": 51
        },
        "outputId": "27b3a094-9893-4c31-ae07-47467892fc40"
      },
      "source": [
        "from tensorflow.keras.models import Model\n",
        "from tensorflow.keras.applications.inception_v3 import InceptionV3\n",
        "from tensorflow.keras.layers import Dense, GlobalAveragePooling2D\n",
        "\n",
        "\n",
        "def get_pretrained(imsize=(224, 224, 3), classes=39):\n",
        "        base_model = InceptionV3(input_shape = imsize, \n",
        "                                 weights='imagenet', \n",
        "                                 include_top=False)\n",
        "        \n",
        "        base_model.trainable = True\n",
        "        \n",
        "        x = base_model.output\n",
        "        x = GlobalAveragePooling2D()(x)\n",
        "        x = Dense(256, activation='relu')(x)\n",
        "        predictions = Dense(classes, activation='softmax')(x)\n",
        "        \n",
        "        model = Model(inputs=base_model.input, outputs=predictions)\n",
        "        \n",
        "        return model\n",
        "\n",
        "model = get_pretrained()\n",
        "model.compile(optimizer = 'adam', loss = 'categorical_crossentropy',\n",
        "                  metrics=['accuracy'])\n"
      ],
      "execution_count": null,
      "outputs": [
        {
          "output_type": "stream",
          "text": [
            "Downloading data from https://github.com/fchollet/deep-learning-models/releases/download/v0.5/inception_v3_weights_tf_dim_ordering_tf_kernels_notop.h5\n",
            "87916544/87910968 [==============================] - 1s 0us/step\n"
          ],
          "name": "stdout"
        }
      ]
    },
    {
      "cell_type": "code",
      "metadata": {
        "id": "ZZgvJtY-Q2PM",
        "colab": {
          "base_uri": "https://localhost:8080/",
          "height": 1000
        },
        "outputId": "d23cda5d-626f-4085-892b-5dbe6adffecd"
      },
      "source": [
        "from tensorflow.keras.callbacks import CSVLogger\n",
        "import datetime\n",
        "\n",
        "logdir = os.path.join(\"logs\", datetime.datetime.now().strftime(\"%Y%m%d-%H%M%S\"))\n",
        "tensorboard_callback = tf.keras.callbacks.TensorBoard(logdir, histogram_freq=1)\n",
        "\n",
        "csv_logger = CSVLogger('26-01-2020_colab.log',append=True)\n",
        "\n",
        "tr_steps = len(df_train)//BATCH_SIZE\n",
        "val_steps = len(df_val)//BATCH_SIZE\n",
        "\n",
        "model.fit(train_ds, \n",
        "          validation_data= val_ds, \n",
        "          steps_per_epoch= tr_steps, \n",
        "          epochs = 30,\n",
        "          validation_steps = val_steps,\n",
        "          callbacks=[csv_logger, tensorboard_callback])"
      ],
      "execution_count": null,
      "outputs": [
        {
          "output_type": "stream",
          "text": [
            "Train for 502 steps, validate for 71 steps\n",
            "Epoch 1/30\n",
            "502/502 [==============================] - 99s 197ms/step - loss: 1.7955 - accuracy: 0.4689 - val_loss: 1.9889 - val_accuracy: 0.4384\n",
            "Epoch 2/30\n",
            "502/502 [==============================] - 84s 167ms/step - loss: 0.9743 - accuracy: 0.6844 - val_loss: 2.3569 - val_accuracy: 0.4723\n",
            "Epoch 3/30\n",
            "502/502 [==============================] - 84s 167ms/step - loss: 0.6896 - accuracy: 0.7773 - val_loss: 1.3844 - val_accuracy: 0.5920\n",
            "Epoch 4/30\n",
            "502/502 [==============================] - 84s 166ms/step - loss: 0.5233 - accuracy: 0.8309 - val_loss: 1.0240 - val_accuracy: 0.7020\n",
            "Epoch 5/30\n",
            "502/502 [==============================] - 84s 167ms/step - loss: 0.4015 - accuracy: 0.8659 - val_loss: 0.8184 - val_accuracy: 0.7491\n",
            "Epoch 6/30\n",
            "502/502 [==============================] - 84s 167ms/step - loss: 0.3320 - accuracy: 0.8881 - val_loss: 1.2692 - val_accuracy: 0.6580\n",
            "Epoch 7/30\n",
            "502/502 [==============================] - 84s 166ms/step - loss: 0.2839 - accuracy: 0.9062 - val_loss: 1.4198 - val_accuracy: 0.6624\n",
            "Epoch 8/30\n",
            "502/502 [==============================] - 83s 166ms/step - loss: 0.2354 - accuracy: 0.9221 - val_loss: 1.0593 - val_accuracy: 0.7289\n",
            "Epoch 9/30\n",
            "502/502 [==============================] - 83s 166ms/step - loss: 0.1903 - accuracy: 0.9369 - val_loss: 1.0524 - val_accuracy: 0.7430\n",
            "Epoch 10/30\n",
            "502/502 [==============================] - 83s 166ms/step - loss: 0.1705 - accuracy: 0.9422 - val_loss: 1.5664 - val_accuracy: 0.6479\n",
            "Epoch 11/30\n",
            "502/502 [==============================] - 83s 166ms/step - loss: 0.1690 - accuracy: 0.9435 - val_loss: 1.0169 - val_accuracy: 0.7645\n",
            "Epoch 12/30\n",
            "502/502 [==============================] - 84s 167ms/step - loss: 0.1326 - accuracy: 0.9566 - val_loss: 1.0663 - val_accuracy: 0.7513\n",
            "Epoch 13/30\n",
            "502/502 [==============================] - 84s 167ms/step - loss: 0.1392 - accuracy: 0.9546 - val_loss: 1.2980 - val_accuracy: 0.7258\n",
            "Epoch 14/30\n",
            "502/502 [==============================] - 83s 166ms/step - loss: 0.1190 - accuracy: 0.9589 - val_loss: 0.8493 - val_accuracy: 0.7993\n",
            "Epoch 15/30\n",
            "502/502 [==============================] - 83s 166ms/step - loss: 0.1083 - accuracy: 0.9638 - val_loss: 1.0586 - val_accuracy: 0.7645\n",
            "Epoch 16/30\n",
            "502/502 [==============================] - 83s 166ms/step - loss: 0.1072 - accuracy: 0.9638 - val_loss: 1.4477 - val_accuracy: 0.7121\n",
            "Epoch 17/30\n",
            "502/502 [==============================] - 83s 166ms/step - loss: 0.0870 - accuracy: 0.9712 - val_loss: 1.1942 - val_accuracy: 0.7460\n",
            "Epoch 18/30\n",
            "502/502 [==============================] - 83s 166ms/step - loss: 0.0962 - accuracy: 0.9687 - val_loss: 1.0866 - val_accuracy: 0.7610\n",
            "Epoch 19/30\n",
            "502/502 [==============================] - 83s 166ms/step - loss: 0.0858 - accuracy: 0.9716 - val_loss: 1.7619 - val_accuracy: 0.6633\n",
            "Epoch 20/30\n",
            "502/502 [==============================] - 83s 166ms/step - loss: 0.0923 - accuracy: 0.9690 - val_loss: 1.2300 - val_accuracy: 0.7218\n",
            "Epoch 21/30\n",
            "502/502 [==============================] - 83s 166ms/step - loss: 0.0752 - accuracy: 0.9759 - val_loss: 1.0520 - val_accuracy: 0.7892\n",
            "Epoch 22/30\n",
            "502/502 [==============================] - 83s 166ms/step - loss: 0.0616 - accuracy: 0.9795 - val_loss: 1.1154 - val_accuracy: 0.7760\n",
            "Epoch 23/30\n",
            "502/502 [==============================] - 83s 166ms/step - loss: 0.0752 - accuracy: 0.9752 - val_loss: 0.8607 - val_accuracy: 0.8191\n",
            "Epoch 24/30\n",
            "502/502 [==============================] - 83s 166ms/step - loss: 0.0685 - accuracy: 0.9776 - val_loss: 1.2888 - val_accuracy: 0.7394\n",
            "Epoch 25/30\n",
            "502/502 [==============================] - 84s 167ms/step - loss: 0.0643 - accuracy: 0.9796 - val_loss: 1.1221 - val_accuracy: 0.7570\n",
            "Epoch 26/30\n",
            "502/502 [==============================] - 83s 166ms/step - loss: 0.0554 - accuracy: 0.9823 - val_loss: 1.6258 - val_accuracy: 0.6932\n",
            "Epoch 27/30\n",
            "502/502 [==============================] - 83s 166ms/step - loss: 0.0762 - accuracy: 0.9740 - val_loss: 1.8356 - val_accuracy: 0.6959\n",
            "Epoch 28/30\n",
            "502/502 [==============================] - 83s 166ms/step - loss: 0.0595 - accuracy: 0.9810 - val_loss: 0.8213 - val_accuracy: 0.8266\n",
            "Epoch 29/30\n",
            "502/502 [==============================] - 83s 166ms/step - loss: 0.0573 - accuracy: 0.9812 - val_loss: 1.0551 - val_accuracy: 0.7795\n",
            "Epoch 30/30\n",
            "502/502 [==============================] - 84s 167ms/step - loss: 0.0584 - accuracy: 0.9801 - val_loss: 1.0111 - val_accuracy: 0.7839\n"
          ],
          "name": "stdout"
        },
        {
          "output_type": "execute_result",
          "data": {
            "text/plain": [
              "<tensorflow.python.keras.callbacks.History at 0x7f703760e5c0>"
            ]
          },
          "metadata": {
            "tags": []
          },
          "execution_count": 10
        }
      ]
    }
  ]
}