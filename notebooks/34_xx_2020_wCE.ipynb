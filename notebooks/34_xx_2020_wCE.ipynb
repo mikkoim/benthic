{
  "nbformat": 4,
  "nbformat_minor": 0,
  "metadata": {
    "colab": {
      "name": "34-xx-2020_wCE.ipynb",
      "provenance": [],
      "collapsed_sections": [],
      "machine_shape": "hm"
    },
    "kernelspec": {
      "name": "python3",
      "display_name": "Python 3"
    },
    "accelerator": "GPU"
  },
  "cells": [
    {
      "cell_type": "code",
      "metadata": {
        "id": "hz-Dn26br4-R"
      },
      "source": [
        "\n",
        "import torch\n",
        "print(torch.cuda.is_available())\n",
        "print(torch.cuda.get_device_capability())"
      ],
      "execution_count": null,
      "outputs": []
    },
    {
      "cell_type": "code",
      "metadata": {
        "id": "NeD-IzS9K7A9",
        "colab": {
          "base_uri": "https://localhost:8080/",
          "height": 34
        },
        "outputId": "897649b3-ae11-4ead-930d-6fafc5049519"
      },
      "source": [
        "%tensorflow_version 2.x"
      ],
      "execution_count": null,
      "outputs": [
        {
          "output_type": "stream",
          "text": [
            "TensorFlow 2.x selected.\n"
          ],
          "name": "stdout"
        }
      ]
    },
    {
      "cell_type": "code",
      "metadata": {
        "id": "EueRfvPV6gQW",
        "colab": {
          "base_uri": "https://localhost:8080/",
          "height": 34
        },
        "outputId": "5f4e7bec-1ad2-4afa-f4d9-b16558d78eb9"
      },
      "source": [
        "import tensorflow as tf\n",
        "print(tf.__version__)"
      ],
      "execution_count": null,
      "outputs": [
        {
          "output_type": "stream",
          "text": [
            "2.1.0\n"
          ],
          "name": "stdout"
        }
      ]
    },
    {
      "cell_type": "code",
      "metadata": {
        "id": "y-vvOwWQ-TtC"
      },
      "source": [
        "from google.colab import drive\n",
        "drive.mount('/content/drive')"
      ],
      "execution_count": null,
      "outputs": []
    },
    {
      "cell_type": "code",
      "metadata": {
        "id": "acC_WmNh6h__"
      },
      "source": [
        "!cp \"/content/drive/My Drive/koulu_honmia/kandi19/IDA.zip\" /content/"
      ],
      "execution_count": null,
      "outputs": []
    },
    {
      "cell_type": "code",
      "metadata": {
        "id": "Ma3AI_eNJyTY"
      },
      "source": [
        "!cp \"/content/drive/My Drive/koulu_honmia/kandi19/benthic/loadbm.py\" /content/"
      ],
      "execution_count": null,
      "outputs": []
    },
    {
      "cell_type": "code",
      "metadata": {
        "id": "tcxCsSm_-q0r"
      },
      "source": [
        "%%capture\n",
        "!unzip IDA.zip"
      ],
      "execution_count": null,
      "outputs": []
    },
    {
      "cell_type": "code",
      "metadata": {
        "id": "Dbb3sJ4-MrXS"
      },
      "source": [
        "!rm IDA.zip"
      ],
      "execution_count": null,
      "outputs": []
    },
    {
      "cell_type": "code",
      "metadata": {
        "id": "nmKlRjh4Ixbk",
        "colab": {
          "base_uri": "https://localhost:8080/",
          "height": 204
        },
        "outputId": "6f058acb-5226-4f29-bea2-7ccd5706e909"
      },
      "source": [
        "import numpy as np\n",
        "import os\n",
        "import ntpath\n",
        "import platform\n",
        "import matplotlib.pyplot as plt\n",
        "from loadbm import create_df, create_tf_dataset, prepare_for_training\n",
        "\n",
        "\n",
        "datapath = 'IDA/Separate lists with numbering/Machine learning splits'\n",
        "img_path = 'IDA/Images/'\n",
        "\n",
        "split = 1\n",
        "\n",
        "train_fname = 'train'+str(split)+'.txt'\n",
        "test_fname = 'test'+str(split)+'.txt'\n",
        "val_fname = 'val'+str(split)+'.txt'\n",
        "\n",
        "part_dat = False\n",
        "\n",
        "df_train = create_df(os.path.join(datapath, train_fname),\n",
        "                     img_path,\n",
        "                     partial_dataset=part_dat,\n",
        "                     seed=123)\n",
        "\n",
        "df_test = create_df(os.path.join(datapath, test_fname),\n",
        "                     img_path,\n",
        "                     partial_dataset=part_dat,\n",
        "                     seed=123)\n",
        "\n",
        "df_val = create_df(os.path.join(datapath, val_fname),\n",
        "                     img_path,\n",
        "                     partial_dataset=part_dat,\n",
        "                     seed=123)\n",
        "\n",
        "from sklearn.utils import shuffle\n",
        "\n",
        "df_train = shuffle(df_train)\n",
        "df_val = shuffle(df_val)\n",
        "\n",
        "df_train.head()"
      ],
      "execution_count": null,
      "outputs": [
        {
          "output_type": "execute_result",
          "data": {
            "text/html": [
              "<div>\n",
              "<style scoped>\n",
              "    .dataframe tbody tr th:only-of-type {\n",
              "        vertical-align: middle;\n",
              "    }\n",
              "\n",
              "    .dataframe tbody tr th {\n",
              "        vertical-align: top;\n",
              "    }\n",
              "\n",
              "    .dataframe thead th {\n",
              "        text-align: right;\n",
              "    }\n",
              "</style>\n",
              "<table border=\"1\" class=\"dataframe\">\n",
              "  <thead>\n",
              "    <tr style=\"text-align: right;\">\n",
              "      <th></th>\n",
              "      <th>path</th>\n",
              "      <th>label</th>\n",
              "    </tr>\n",
              "  </thead>\n",
              "  <tbody>\n",
              "    <tr>\n",
              "      <th>313821</th>\n",
              "      <td>IDA/Images/Taeniopteryx_neb191/0-Taeniopteryx_...</td>\n",
              "      <td>39</td>\n",
              "    </tr>\n",
              "    <tr>\n",
              "      <th>37881</th>\n",
              "      <td>IDA/Images/Baetis_rho77/0-Baetis_rho77.1.2016-...</td>\n",
              "      <td>4</td>\n",
              "    </tr>\n",
              "    <tr>\n",
              "      <th>18349</th>\n",
              "      <td>IDA/Images/Amphinemura_bor211/1-Amphinemura_bo...</td>\n",
              "      <td>3</td>\n",
              "    </tr>\n",
              "    <tr>\n",
              "      <th>265095</th>\n",
              "      <td>IDA/Images/Polycentropus_fla82/1-Polycentropus...</td>\n",
              "      <td>31</td>\n",
              "    </tr>\n",
              "    <tr>\n",
              "      <th>184933</th>\n",
              "      <td>IDA/Images/Limnius_vol113/0-Limnius_vol113.1.2...</td>\n",
              "      <td>22</td>\n",
              "    </tr>\n",
              "  </tbody>\n",
              "</table>\n",
              "</div>"
            ],
            "text/plain": [
              "                                                     path  label\n",
              "313821  IDA/Images/Taeniopteryx_neb191/0-Taeniopteryx_...     39\n",
              "37881   IDA/Images/Baetis_rho77/0-Baetis_rho77.1.2016-...      4\n",
              "18349   IDA/Images/Amphinemura_bor211/1-Amphinemura_bo...      3\n",
              "265095  IDA/Images/Polycentropus_fla82/1-Polycentropus...     31\n",
              "184933  IDA/Images/Limnius_vol113/0-Limnius_vol113.1.2...     22"
            ]
          },
          "metadata": {
            "tags": []
          },
          "execution_count": 22
        }
      ]
    },
    {
      "cell_type": "code",
      "metadata": {
        "id": "rk6XhlkMKo4Z",
        "colab": {
          "base_uri": "https://localhost:8080/",
          "height": 187
        },
        "outputId": "6386d136-1fb4-4e0d-8d4e-5d445b1fe948"
      },
      "source": [
        "AUTOTUNE = tf.data.experimental.AUTOTUNE\n",
        "IMSIZE = (224,224,3)\n",
        "BATCH_SIZE = 32\n",
        "\n",
        "train_ds = create_tf_dataset(df_train, imsize=IMSIZE, onehot=True)\n",
        "\n",
        "val_ds = create_tf_dataset(df_val, imsize=IMSIZE, onehot=True)\n",
        "\n",
        "\n",
        "train_ds = prepare_for_training(train_ds, \n",
        "                                shuffle_buffer_size=1000,\n",
        "                                batch_size=BATCH_SIZE)\n",
        "\n",
        "val_ds = prepare_for_training(val_ds, \n",
        "                              shuffle_buffer_size=1000,\n",
        "                              batch_size=BATCH_SIZE)\n",
        "\n",
        "for image, label in train_ds.take(5):\n",
        "    print(image.shape)\n",
        "    print(label.shape)\n"
      ],
      "execution_count": null,
      "outputs": [
        {
          "output_type": "stream",
          "text": [
            "(32, 224, 224, 3)\n",
            "(32, 39)\n",
            "(32, 224, 224, 3)\n",
            "(32, 39)\n",
            "(32, 224, 224, 3)\n",
            "(32, 39)\n",
            "(32, 224, 224, 3)\n",
            "(32, 39)\n",
            "(32, 224, 224, 3)\n",
            "(32, 39)\n"
          ],
          "name": "stdout"
        }
      ]
    },
    {
      "cell_type": "code",
      "metadata": {
        "id": "9vrokTggUW2H"
      },
      "source": [
        "import tensorflow.keras.backend as K\n",
        "\n",
        "def weighted_crossentropy(alpha=1.0):\n",
        "\n",
        "    def loss(y,yhat):\n",
        "        \n",
        "      y = K.cast(y, tf.float32)\n",
        "      yhat = tf.convert_to_tensor(yhat, dtype=y.dtype)\n",
        "\n",
        "      w_ce = -K.sum(y*K.log(yhat+1e-7)*alpha, axis=1)\n",
        "      \n",
        "      return w_ce\n",
        "\n",
        "    return loss\n",
        "\n",
        "alpha = np.histogram(df_train['label'].values,bins=39)[0]\n",
        "alpha = 1-(alpha/np.sum(alpha))"
      ],
      "execution_count": null,
      "outputs": []
    },
    {
      "cell_type": "code",
      "metadata": {
        "id": "CVO7otL1QyZy"
      },
      "source": [
        "from tensorflow.keras.models import Model\n",
        "from tensorflow.keras.applications.inception_v3 import InceptionV3\n",
        "from tensorflow.keras.layers import Dense, GlobalAveragePooling2D\n",
        "\n",
        "\n",
        "def get_pretrained(imsize=(224, 224, 3), classes=39):\n",
        "        base_model = InceptionV3(input_shape = imsize, \n",
        "                                 weights='imagenet', \n",
        "                                 include_top=False)\n",
        "        \n",
        "        base_model.trainable = True\n",
        "        \n",
        "        x = base_model.output\n",
        "        x = GlobalAveragePooling2D()(x)\n",
        "        x = Dense(256, activation='relu')(x)\n",
        "        predictions = Dense(classes, activation='softmax')(x)\n",
        "        \n",
        "        model = Model(inputs=base_model.input, outputs=predictions)\n",
        "        \n",
        "        return model\n",
        "\n",
        "model = get_pretrained()\n",
        "\n",
        "loss = weighted_crossentropy(alpha=alpha) \n",
        "\n",
        "model.compile(optimizer = 'adam', loss = loss,\n",
        "                  metrics=['accuracy'])"
      ],
      "execution_count": null,
      "outputs": []
    },
    {
      "cell_type": "code",
      "metadata": {
        "id": "ZZgvJtY-Q2PM",
        "colab": {
          "base_uri": "https://localhost:8080/",
          "height": 411
        },
        "outputId": "cf7e9dc3-3c30-44d2-979e-9e449484c2ff"
      },
      "source": [
        "from tensorflow.keras.callbacks import CSVLogger\n",
        "import datetime\n",
        "\n",
        "\n",
        "tr_steps = len(df_train)//BATCH_SIZE\n",
        "val_steps = len(df_val)//BATCH_SIZE\n",
        "\n",
        "model.fit(train_ds, \n",
        "          validation_data= val_ds, \n",
        "          steps_per_epoch= tr_steps, \n",
        "          epochs = 10,\n",
        "          validation_steps = val_steps)\n"
      ],
      "execution_count": null,
      "outputs": [
        {
          "output_type": "stream",
          "text": [
            "Train for 10043 steps, validate for 1434 steps\n",
            "Epoch 1/10\n",
            "10043/10043 [==============================] - 1601s 159ms/step - loss: 0.4196 - accuracy: 0.8610 - val_loss: 0.6299 - val_accuracy: 0.8278\n",
            "Epoch 2/10\n",
            "10043/10043 [==============================] - 1594s 159ms/step - loss: 0.1072 - accuracy: 0.9636 - val_loss: 0.6677 - val_accuracy: 0.8322\n",
            "Epoch 3/10\n",
            "10043/10043 [==============================] - 1589s 158ms/step - loss: 0.0628 - accuracy: 0.9792 - val_loss: 0.4987 - val_accuracy: 0.8749\n",
            "Epoch 4/10\n",
            "10043/10043 [==============================] - 1592s 159ms/step - loss: 0.0439 - accuracy: 0.9856 - val_loss: 0.8646 - val_accuracy: 0.8395\n",
            "Epoch 5/10\n",
            "10043/10043 [==============================] - 1604s 160ms/step - loss: 0.0342 - accuracy: 0.9886 - val_loss: 0.7324 - val_accuracy: 0.8586\n",
            "Epoch 6/10\n",
            "10043/10043 [==============================] - 1604s 160ms/step - loss: 0.0291 - accuracy: 0.9905 - val_loss: 0.5261 - val_accuracy: 0.8875\n",
            "Epoch 7/10\n",
            "10043/10043 [==============================] - 1599s 159ms/step - loss: 0.0242 - accuracy: 0.9923 - val_loss: 0.7245 - val_accuracy: 0.8505\n",
            "Epoch 8/10\n",
            "10043/10043 [==============================] - 1607s 160ms/step - loss: 0.0213 - accuracy: 0.9932 - val_loss: 0.5799 - val_accuracy: 0.8873\n",
            "Epoch 9/10\n",
            "10043/10043 [==============================] - 1599s 159ms/step - loss: 0.0188 - accuracy: 0.9939 - val_loss: 1.0120 - val_accuracy: 0.8223\n",
            "Epoch 10/10\n",
            "10043/10043 [==============================] - 1591s 158ms/step - loss: 0.0181 - accuracy: 0.9942 - val_loss: 0.8289 - val_accuracy: 0.8427\n"
          ],
          "name": "stdout"
        },
        {
          "output_type": "execute_result",
          "data": {
            "text/plain": [
              "<tensorflow.python.keras.callbacks.History at 0x7f106df59940>"
            ]
          },
          "metadata": {
            "tags": []
          },
          "execution_count": 35
        }
      ]
    },
    {
      "cell_type": "code",
      "metadata": {
        "id": "B4QoLL4m52Nn",
        "colab": {
          "base_uri": "https://localhost:8080/",
          "height": 241
        },
        "outputId": "7bf1a268-0bfd-49c6-db5a-e25fd2823712"
      },
      "source": [
        "from tensorflow.keras.optimizers import Adam\n",
        "adam = Adam(learning_rate=0.0001) #original 0.001\n",
        "\n",
        "from tensorflow.keras.callbacks import LearningRateScheduler\n",
        "def scheduler(epoch):\n",
        "    return 0.0001 * tf.math.exp(0.1 * (-epoch))\n",
        "\n",
        "lr_cb = LearningRateScheduler(scheduler)\n",
        "\n",
        "model.compile(optimizer = adam, loss = loss,\n",
        "                  metrics=['accuracy'])\n",
        "\n",
        "model.fit(train_ds, \n",
        "          validation_data= val_ds, \n",
        "          steps_per_epoch= tr_steps, \n",
        "          epochs = 5,\n",
        "          validation_steps = val_steps,\n",
        "          callbacks=[lr_cb])"
      ],
      "execution_count": null,
      "outputs": [
        {
          "output_type": "stream",
          "text": [
            "Train for 10043 steps, validate for 1434 steps\n",
            "Epoch 1/5\n",
            "10043/10043 [==============================] - 1600s 159ms/step - loss: 0.0023 - accuracy: 0.9993 - val_loss: 0.4303 - val_accuracy: 0.9242\n",
            "Epoch 2/5\n",
            "10043/10043 [==============================] - 1593s 159ms/step - loss: 6.4655e-04 - accuracy: 0.9998 - val_loss: 0.4725 - val_accuracy: 0.9254\n",
            "Epoch 3/5\n",
            "10043/10043 [==============================] - 1591s 158ms/step - loss: 4.2400e-04 - accuracy: 0.9999 - val_loss: 0.4719 - val_accuracy: 0.9271\n",
            "Epoch 4/5\n",
            "10043/10043 [==============================] - 1597s 159ms/step - loss: 3.1200e-04 - accuracy: 0.9999 - val_loss: 0.4485 - val_accuracy: 0.9297\n",
            "Epoch 5/5\n",
            "10043/10043 [==============================] - 1600s 159ms/step - loss: 2.0731e-04 - accuracy: 0.9999 - val_loss: 0.4439 - val_accuracy: 0.9319\n"
          ],
          "name": "stdout"
        },
        {
          "output_type": "execute_result",
          "data": {
            "text/plain": [
              "<tensorflow.python.keras.callbacks.History at 0x7f106a577550>"
            ]
          },
          "metadata": {
            "tags": []
          },
          "execution_count": 36
        }
      ]
    },
    {
      "cell_type": "code",
      "metadata": {
        "id": "suPv5Qxvla4Z",
        "colab": {
          "base_uri": "https://localhost:8080/",
          "height": 238
        },
        "outputId": "313e1dfd-27a7-44d0-e4e1-71e82e1dae40"
      },
      "source": [
        "model.history.history"
      ],
      "execution_count": null,
      "outputs": [
        {
          "output_type": "execute_result",
          "data": {
            "text/plain": [
              "{'accuracy': [0.9992843, 0.99980086, 0.9998662, 0.9999191, 0.9999191],\n",
              " 'loss': [0.0022917723968919447,\n",
              "  0.0006465482551303102,\n",
              "  0.00042399666984836807,\n",
              "  0.000312004303457951,\n",
              "  0.000207307769795357],\n",
              " 'lr': [1e-04, 9.0483736e-05, 8.187308e-05, 7.4081814e-05, 6.7032e-05],\n",
              " 'val_accuracy': [0.9242068, 0.9254053, 0.9271487, 0.929742, 0.9319212],\n",
              " 'val_loss': [0.43026168601172565,\n",
              "  0.4725120326437556,\n",
              "  0.4718519926186389,\n",
              "  0.44853310993689793,\n",
              "  0.4439209270419437]}"
            ]
          },
          "metadata": {
            "tags": []
          },
          "execution_count": 37
        }
      ]
    },
    {
      "cell_type": "code",
      "metadata": {
        "id": "fKh9VoPQ0Uu7"
      },
      "source": [
        "model.save('34-xx-2020.h5')"
      ],
      "execution_count": null,
      "outputs": []
    },
    {
      "cell_type": "code",
      "metadata": {
        "id": "l_TU5S5-0Z8G"
      },
      "source": [
        "!cp '34-xx-2020.h5' \"/content/drive/My Drive/koulu_honmia/kandi19/\""
      ],
      "execution_count": null,
      "outputs": []
    },
    {
      "cell_type": "markdown",
      "metadata": {
        "id": "nUXbmvd84VEv"
      },
      "source": [
        "Evaluation:"
      ]
    },
    {
      "cell_type": "code",
      "metadata": {
        "id": "u9OFVEmV4WvP"
      },
      "source": [
        "test_ds = create_tf_dataset(df_test, imsize=IMSIZE, onehot=True)\n",
        "test_ds = test_ds.batch(BATCH_SIZE)"
      ],
      "execution_count": null,
      "outputs": []
    },
    {
      "cell_type": "code",
      "metadata": {
        "id": "htSIMp_o4eHG"
      },
      "source": [
        "!cp \"/content/drive/My Drive/koulu_honmia/kandi19/benthic/combine_insects.py\" /content/"
      ],
      "execution_count": null,
      "outputs": []
    },
    {
      "cell_type": "code",
      "metadata": {
        "id": "Wg_5mmZy4zst",
        "colab": {
          "base_uri": "https://localhost:8080/",
          "height": 51
        },
        "outputId": "9b5e3f59-a850-46a8-9a6d-9fbf4e82abd0"
      },
      "source": [
        "preds = model.predict(test_ds, verbose=True)\n",
        "yhat = np.argmax(preds,axis=1)+1\n",
        "y_test = df_test['label']\n",
        "\n",
        "acc = np.sum(yhat==y_test)/len(y_test)\n",
        "print('Image accuracy: {:.4f}'.format(acc))\n",
        "\n",
        "np.save('34-xx-2020.npy', preds)"
      ],
      "execution_count": null,
      "outputs": [
        {
          "output_type": "stream",
          "text": [
            "2897/2897 [==============================] - 148s 51ms/step\n",
            "Image accuracy: 0.9281\n"
          ],
          "name": "stdout"
        }
      ]
    },
    {
      "cell_type": "code",
      "metadata": {
        "id": "nB8zlcRuNTM4"
      },
      "source": [
        "!cp '34-xx-2020.npy' \"/content/drive/My Drive/koulu_honmia/kandi19/\""
      ],
      "execution_count": null,
      "outputs": []
    },
    {
      "cell_type": "code",
      "metadata": {
        "id": "mMrBm9fJ4-6D",
        "colab": {
          "base_uri": "https://localhost:8080/",
          "height": 34
        },
        "outputId": "230f6518-04ce-4100-cf19-f26767a02ce6"
      },
      "source": [
        "#%% Insect combine\n",
        "from combine_insects import add_insect_class, add_yhat\n",
        "\n",
        "df_test_preds = add_insect_class(df_test)\n",
        "\n",
        "# adding predictions to dataframe for insect-wise prediction\n",
        "df_test_preds = add_yhat(df_test_preds,yhat)\n",
        "\n",
        "dfg = df_test_preds.groupby(['label','insect'],as_index=False)['pred'].agg(lambda x:x.value_counts().index[0])\n",
        "\n",
        "acc_g = np.sum(dfg['pred']==dfg['label'])/len(dfg)\n",
        "print('Aggregate accuracy: {:.4f}'.format(acc_g))"
      ],
      "execution_count": null,
      "outputs": [
        {
          "output_type": "stream",
          "text": [
            "Aggregate accuracy: 0.9601\n"
          ],
          "name": "stdout"
        }
      ]
    },
    {
      "cell_type": "code",
      "metadata": {
        "id": "2bEY8Ak67HxY",
        "colab": {
          "base_uri": "https://localhost:8080/",
          "height": 238
        },
        "outputId": "3d0b57ac-f768-4133-d12f-4d74a2cb707e"
      },
      "source": [
        "model.history.history"
      ],
      "execution_count": null,
      "outputs": [
        {
          "output_type": "execute_result",
          "data": {
            "text/plain": [
              "{'accuracy': [0.9992843, 0.99980086, 0.9998662, 0.9999191, 0.9999191],\n",
              " 'loss': [0.0022917723968919447,\n",
              "  0.0006465482551303102,\n",
              "  0.00042399666984836807,\n",
              "  0.000312004303457951,\n",
              "  0.000207307769795357],\n",
              " 'lr': [1e-04, 9.0483736e-05, 8.187308e-05, 7.4081814e-05, 6.7032e-05],\n",
              " 'val_accuracy': [0.9242068, 0.9254053, 0.9271487, 0.929742, 0.9319212],\n",
              " 'val_loss': [0.43026168601172565,\n",
              "  0.4725120326437556,\n",
              "  0.4718519926186389,\n",
              "  0.44853310993689793,\n",
              "  0.4439209270419437]}"
            ]
          },
          "metadata": {
            "tags": []
          },
          "execution_count": 45
        }
      ]
    },
    {
      "cell_type": "markdown",
      "metadata": {
        "id": "XAzEiGGDipn4"
      },
      "source": [
        ""
      ]
    }
  ]
}